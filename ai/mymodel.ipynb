{
 "cells": [
  {
   "cell_type": "code",
   "execution_count": 2,
   "metadata": {},
   "outputs": [
    {
     "name": "stderr",
     "output_type": "stream",
     "text": [
      "2024-04-04 15:17:19.399609: I tensorflow/core/util/port.cc:113] oneDNN custom operations are on. You may see slightly different numerical results due to floating-point round-off errors from different computation orders. To turn them off, set the environment variable `TF_ENABLE_ONEDNN_OPTS=0`.\n",
      "2024-04-04 15:17:19.399959: I external/local_tsl/tsl/cuda/cudart_stub.cc:32] Could not find cuda drivers on your machine, GPU will not be used.\n",
      "2024-04-04 15:17:19.402284: I external/local_tsl/tsl/cuda/cudart_stub.cc:32] Could not find cuda drivers on your machine, GPU will not be used.\n",
      "2024-04-04 15:17:19.431796: I tensorflow/core/platform/cpu_feature_guard.cc:210] This TensorFlow binary is optimized to use available CPU instructions in performance-critical operations.\n",
      "To enable the following instructions: AVX2 AVX_VNNI FMA, in other operations, rebuild TensorFlow with the appropriate compiler flags.\n",
      "2024-04-04 15:17:20.073796: W tensorflow/compiler/tf2tensorrt/utils/py_utils.cc:38] TF-TRT Warning: Could not find TensorRT\n"
     ]
    }
   ],
   "source": [
    "## This is a RandomForest model trained by cardio_train data by Me.\n",
    "\n",
    "\n",
    "import pandas as pd\n",
    "from sklearn.model_selection import train_test_split\n",
    "from sklearn.ensemble import RandomForestClassifier\n",
    "from sklearn.metrics import accuracy_score\n",
    "from tensorflow import keras\n",
    "from sklearn.tree import DecisionTreeClassifier\n",
    "from sklearn.neighbors import KNeighborsClassifier\n",
    "import sklearn.linear_model as lm\n",
    "from sklearn.metrics import classification_report\n",
    "from sklearn.preprocessing import StandardScaler\n",
    "from sklearn.metrics import ConfusionMatrixDisplay\n",
    "from keras.models import Sequential, load_model\n",
    "from keras.layers import Dense\n",
    "from tensorflow import keras\n",
    "import numpy as np\n"
   ]
  },
  {
   "cell_type": "code",
   "execution_count": 3,
   "metadata": {},
   "outputs": [
    {
     "name": "stdout",
     "output_type": "stream",
     "text": [
      "   id    age  gender  height  weight  ap_hi  ap_lo  cholesterol  gluc  smoke  \\\n",
      "0   0  18393       2     168    62.0    110     80            1     1      0   \n",
      "1   1  20228       1     156    85.0    140     90            3     1      0   \n",
      "2   2  18857       1     165    64.0    130     70            3     1      0   \n",
      "3   3  17623       2     169    82.0    150    100            1     1      0   \n",
      "4   4  17474       1     156    56.0    100     60            1     1      0   \n",
      "\n",
      "   alco  active  cardio  \n",
      "0     0       1       0  \n",
      "1     0       1       1  \n",
      "2     0       0       1  \n",
      "3     0       1       1  \n",
      "4     0       0       0  \n",
      "age            0\n",
      "gender         0\n",
      "height         0\n",
      "weight         0\n",
      "ap_hi          0\n",
      "ap_lo          0\n",
      "cholesterol    0\n",
      "gluc           0\n",
      "smoke          0\n",
      "alco           0\n",
      "active         0\n",
      "cardio         0\n",
      "dtype: int64\n"
     ]
    }
   ],
   "source": [
    "data = pd.read_csv(\"cardio_train.csv\",sep=\";\")\n",
    "\n",
    "\n",
    "print(data.head())\n",
    "\n",
    "\n",
    "data = data.drop(0)\n",
    "    \n",
    "data = data.drop(columns=['id'])\n",
    "\n",
    "\n",
    "nan_values = data.isna().sum()\n",
    "print(nan_values)"
   ]
  },
  {
   "cell_type": "code",
   "execution_count": 4,
   "metadata": {},
   "outputs": [],
   "source": [
    "\n",
    "X = data.drop('cardio', axis=1)  \n",
    "y = data['cardio']  \n",
    "\n",
    "scaler = StandardScaler()\n",
    "\n",
    "X = scaler.fit_transform(X)\n",
    "X_train, X_test, y_train, y_test = train_test_split(X, y, test_size=0.2, random_state=42, stratify=y)\n",
    "\n"
   ]
  },
  {
   "cell_type": "code",
   "execution_count": 67,
   "metadata": {},
   "outputs": [],
   "source": [
    "\n",
    "def Machine_Learning(X_train, X_test, y_train, y_test):\n",
    "    print(\"Machine Learning\")\n",
    "    print(\"=====================================\")\n",
    "\n",
    "    log_reg = lm.LogisticRegression()\n",
    "    log_reg.fit(X_train, y_train)\n",
    "    log_reg_score = log_reg.score(X_test, y_test)\n",
    "    print(\"Logistic Regression Testing Accuracy: \", log_reg_score)\n",
    "    print(\"Logistic Regression Classification Report: \")\n",
    "    print(classification_report(y_test, log_reg.predict(X_test)))\n",
    "    print(\"=====================================\")\n",
    "\n",
    "    # Decision Tree\n",
    "    Decision_tree = DecisionTreeClassifier(criterion=\"gini\", random_state=42, max_depth=None, min_samples_leaf=5)\n",
    "    Decision_tree.fit(X_train, y_train)\n",
    "    Decision_tree_score = Decision_tree.score(X_test, y_test)\n",
    "    print(\"Decision Tree Testing Accuracy: \", Decision_tree_score)\n",
    "    print(\"Decision Tree Classification Report: \")\n",
    "    print(classification_report(y_test, Decision_tree.predict(X_test)))\n",
    "    print(\"=====================================\")\n",
    "\n",
    "    knn = KNeighborsClassifier(n_neighbors=5)\n",
    "    knn.fit(X_train, y_train)\n",
    "    knn_score = knn.score(X_test, y_test)\n",
    "    print(\"KNN Testing Accuracy: \", knn_score)\n",
    "    print(\"=====================================\")\n",
    "\n",
    "    lin_reg = lm.LinearRegression()\n",
    "    lin_reg.fit(X_train, y_train)\n",
    "    lin_reg_score = lin_reg.score(X_test, y_test)\n",
    "    print(\"Linear Regression Testing Accuracy: \", lin_reg_score)\n",
    "    print(\"=====================================\")\n",
    "\n",
    "    Sgd_reg = lm.SGDRegressor()\n",
    "    Sgd_reg.fit(X_train, y_train)\n",
    "    Sgd_reg_score = Sgd_reg.score(X_test, y_test)\n",
    "    print(\"SGD Testing Accuracy: \", Sgd_reg_score)\n",
    "    print(\"=====================================\")\n",
    "\n",
    "    Ridge_reg = lm.Ridge()\n",
    "    Ridge_reg.fit(X_train, y_train)\n",
    "    Ridge_reg_score = Ridge_reg.score(X_test, y_test)\n",
    "    print(\"Ridge Testing Accuracy: \", Ridge_reg_score)\n",
    "    print(\"=====================================\")\n",
    "\n",
    "    Lasso_reg = lm.Lasso()\n",
    "    Lasso_reg.fit(X_train, y_train)\n",
    "    Lasso_reg_score = Lasso_reg.score(X_test, y_test)\n",
    "    print(\"Lasso Testing Accuracy: \", Lasso_reg_score)\n",
    "    print(\"=====================================\")\n",
    "\n",
    "    Elastic_reg = lm.ElasticNet()\n",
    "    Elastic_reg.fit(X_train, y_train)\n",
    "    Elastic_reg_score = Elastic_reg.score(X_test, y_test)\n",
    "    print(\"Elastic Testing Accuracy: \", Elastic_reg_score)\n",
    "    print(\"=====================================\")\n",
    "\n",
    "    Huber_reg = lm.HuberRegressor()\n",
    "    Huber_reg.fit(X_train, y_train)\n",
    "    Huber_reg_score = Huber_reg.score(X_test, y_test)\n",
    "    print(\"Huber Testing Accuracy: \", Huber_reg_score)\n",
    "    print(\"=====================================\")\n",
    "\n",
    "    Ransac_reg = lm.RANSACRegressor()\n",
    "    Ransac_reg.fit(X_train, y_train)\n",
    "    Ransac_reg_score = Ransac_reg.score(X_test, y_test)\n",
    "    print(\"Ransac Testing Accuracy: \", Ransac_reg_score)\n",
    "    print(\"=====================================\")\n",
    "\n",
    "    # Theil regression is not working (Low memory)\n",
    "    # Theil_reg = lm.TheilSenRegressor()\n",
    "    # Theil_reg.fit(X_train, y_train)\n",
    "    # Theil_reg_score = Theil_reg.score(X_test, y_test)\n",
    "    # print(\"Theil Testing Accuracy: \", Theil_reg_score)\n",
    "\n",
    "    models = [log_reg, Decision_tree, knn, lin_reg, Sgd_reg, Ridge_reg, Lasso_reg, Elastic_reg, Huber_reg, Ransac_reg]\n",
    "    scores = [log_reg_score,\n",
    "              Decision_tree_score,\n",
    "              knn_score,\n",
    "              lin_reg_score,\n",
    "              Sgd_reg_score,\n",
    "              Ridge_reg_score,\n",
    "              Lasso_reg_score,\n",
    "              Elastic_reg_score,\n",
    "              Huber_reg_score,\n",
    "              Ransac_reg_score]\n",
    "\n",
    "    print(\"---------------------------------------------------------------------------------\")\n",
    "\n",
    "    return models, scores\n"
   ]
  },
  {
   "cell_type": "code",
   "execution_count": 68,
   "metadata": {},
   "outputs": [
    {
     "name": "stdout",
     "output_type": "stream",
     "text": [
      "Machine Learning\n",
      "=====================================\n",
      "Logistic Regression Testing Accuracy:  0.7205714285714285\n",
      "Logistic Regression Classification Report: \n",
      "              precision    recall  f1-score   support\n",
      "\n",
      "           0       0.70      0.77      0.73      7004\n",
      "           1       0.74      0.67      0.71      6996\n",
      "\n",
      "    accuracy                           0.72     14000\n",
      "   macro avg       0.72      0.72      0.72     14000\n",
      "weighted avg       0.72      0.72      0.72     14000\n",
      "\n",
      "=====================================\n",
      "Decision Tree Testing Accuracy:  0.6587857142857143\n",
      "Decision Tree Classification Report: \n",
      "              precision    recall  f1-score   support\n",
      "\n",
      "           0       0.65      0.68      0.67      7004\n",
      "           1       0.67      0.64      0.65      6996\n",
      "\n",
      "    accuracy                           0.66     14000\n",
      "   macro avg       0.66      0.66      0.66     14000\n",
      "weighted avg       0.66      0.66      0.66     14000\n",
      "\n",
      "=====================================\n",
      "KNN Testing Accuracy:  0.6519285714285714\n",
      "=====================================\n",
      "Linear Regression Testing Accuracy:  0.1175876457723436\n",
      "=====================================\n",
      "SGD Testing Accuracy:  -1.2427193254538712e+21\n",
      "=====================================\n",
      "Ridge Testing Accuracy:  0.11758769716446094\n",
      "=====================================\n",
      "Lasso Testing Accuracy:  -3.192537345597657e-10\n",
      "=====================================\n",
      "Elastic Testing Accuracy:  -3.192537345597657e-10\n",
      "=====================================\n",
      "Huber Testing Accuracy:  -3.3699636078677084\n",
      "=====================================\n",
      "Ransac Testing Accuracy:  -1.0005720818194654\n",
      "=====================================\n",
      "---------------------------------------------------------------------------------\n"
     ]
    },
    {
     "name": "stderr",
     "output_type": "stream",
     "text": [
      "/home/davutcan/.local/lib/python3.10/site-packages/sklearn/metrics/_regression.py:1187: UndefinedMetricWarning: R^2 score is not well-defined with less than two samples.\n",
      "  warnings.warn(msg, UndefinedMetricWarning)\n",
      "/home/davutcan/.local/lib/python3.10/site-packages/sklearn/metrics/_regression.py:1187: UndefinedMetricWarning: R^2 score is not well-defined with less than two samples.\n",
      "  warnings.warn(msg, UndefinedMetricWarning)\n",
      "/home/davutcan/.local/lib/python3.10/site-packages/sklearn/metrics/_regression.py:1187: UndefinedMetricWarning: R^2 score is not well-defined with less than two samples.\n",
      "  warnings.warn(msg, UndefinedMetricWarning)\n"
     ]
    },
    {
     "data": {
      "text/plain": [
       "([LogisticRegression(),\n",
       "  DecisionTreeClassifier(min_samples_leaf=5, random_state=42),\n",
       "  KNeighborsClassifier(),\n",
       "  LinearRegression(),\n",
       "  SGDRegressor(),\n",
       "  Ridge(),\n",
       "  Lasso(),\n",
       "  ElasticNet(),\n",
       "  HuberRegressor(),\n",
       "  RANSACRegressor()],\n",
       " [0.7205714285714285,\n",
       "  0.6587857142857143,\n",
       "  0.6519285714285714,\n",
       "  0.1175876457723436,\n",
       "  -1.2427193254538712e+21,\n",
       "  0.11758769716446094,\n",
       "  -3.192537345597657e-10,\n",
       "  -3.192537345597657e-10,\n",
       "  -3.3699636078677084,\n",
       "  -1.0005720818194654])"
      ]
     },
     "execution_count": 68,
     "metadata": {},
     "output_type": "execute_result"
    }
   ],
   "source": [
    "Machine_Learning(X_train,X_test,y_train,y_test)"
   ]
  },
  {
   "cell_type": "code",
   "execution_count": 69,
   "metadata": {},
   "outputs": [
    {
     "name": "stdout",
     "output_type": "stream",
     "text": [
      "Model Doğruluğu: 0.7158571428571429\n",
      "Best Parameters:  {'max_depth': 10, 'n_estimators': 300}\n",
      "Train Accuracy:  0.7549599099983928\n",
      "Test Accuracy:  0.7337142857142858\n"
     ]
    }
   ],
   "source": [
    "from sklearn.model_selection import GridSearchCV\n",
    "model = RandomForestClassifier() \n",
    "# Random Forest selected\n",
    "model.fit(X_train, y_train)\n",
    "\n",
    "# Test the accuracy and find best parameters \n",
    "y_pred = model.predict(X_test)\n",
    "accuracy = accuracy_score(y_test, y_pred)\n",
    "print(\"Model Doğruluğu:\", accuracy)\n",
    "\n",
    "param_grid = {'n_estimators': [100, 200, 300], 'max_depth': [5, 10, 20]}\n",
    "\n",
    "grid_search = GridSearchCV(model, param_grid, cv=5)\n",
    "grid_search.fit(X_train, y_train)\n",
    "best_params = grid_search.best_params_\n",
    "print('Best Parameters: ', best_params)\n",
    "\n",
    "best_rand_forest = RandomForestClassifier(**best_params)\n",
    "best_rand_forest.fit(X_train, y_train)\n",
    "print('Train Accuracy: ', best_rand_forest.score(X_train,y_train))\n",
    "print('Test Accuracy: ', best_rand_forest.score(X_test,y_test))"
   ]
  },
  {
   "cell_type": "code",
   "execution_count": 70,
   "metadata": {},
   "outputs": [
    {
     "name": "stdout",
     "output_type": "stream",
     "text": [
      "[0 0 0 ... 1 0 1]\n",
      "              precision    recall  f1-score   support\n",
      "\n",
      "           0       0.71      0.79      0.75      7004\n",
      "           1       0.76      0.68      0.72      6996\n",
      "\n",
      "    accuracy                           0.73     14000\n",
      "   macro avg       0.74      0.73      0.73     14000\n",
      "weighted avg       0.74      0.73      0.73     14000\n",
      "\n"
     ]
    },
    {
     "data": {
      "image/png": "[encoded data removed]",
      "text/plain": [
       "<Figure size 640x480 with 2 Axes>"
      ]
     },
     "metadata": {},
     "output_type": "display_data"
    }
   ],
   "source": [
    "## Find the best result for random forest\n",
    "\n",
    "import matplotlib.pyplot as plt\n",
    "y_predictions = best_rand_forest.predict(X_test)\n",
    "\n",
    "\n",
    "print(y_predictions)\n",
    "print(classification_report(y_test, y_predictions))\n",
    "\n",
    "ConfusionMatrixDisplay.from_predictions(y_test, y_predictions)\n",
    "plt.show()\n"
   ]
  },
  {
   "cell_type": "code",
   "execution_count": 1,
   "metadata": {},
   "outputs": [
    {
     "ename": "NameError",
     "evalue": "name 'best_rand_forest' is not defined",
     "output_type": "error",
     "traceback": [
      "\u001b[0;31m---------------------------------------------------------------------------\u001b[0m",
      "\u001b[0;31mNameError\u001b[0m                                 Traceback (most recent call last)",
      "Cell \u001b[0;32mIn[1], line 4\u001b[0m\n\u001b[1;32m      1\u001b[0m \u001b[38;5;66;03m## saving and loading model \u001b[39;00m\n\u001b[1;32m      3\u001b[0m \u001b[38;5;28;01mfrom\u001b[39;00m \u001b[38;5;21;01mjoblib\u001b[39;00m \u001b[38;5;28;01mimport\u001b[39;00m dump\n\u001b[0;32m----> 4\u001b[0m dump(\u001b[43mbest_rand_forest\u001b[49m, \u001b[38;5;124m'\u001b[39m\u001b[38;5;124mrandom_forest_model.joblib\u001b[39m\u001b[38;5;124m'\u001b[39m)\n",
      "\u001b[0;31mNameError\u001b[0m: name 'best_rand_forest' is not defined"
     ]
    }
   ],
   "source": [
    "## saving and loading model \n",
    "\n",
    "from joblib import dump\n",
    "dump(best_rand_forest, 'random_forest_model.joblib')\n"
   ]
  },
  {
   "cell_type": "code",
   "execution_count": 72,
   "metadata": {},
   "outputs": [],
   "source": [
    "from joblib import load\n",
    "\n",
    "# Load the model from the file\n",
    "rf_model = load('random_forest_model.joblib')\n"
   ]
  },
  {
   "cell_type": "code",
   "execution_count": 77,
   "metadata": {},
   "outputs": [
    {
     "name": "stdout",
     "output_type": "stream",
     "text": [
      "Your cardiovascular desease rate [1]\n"
     ]
    }
   ],
   "source": [
    "## Input test functions  (You can just enter the string as in the dataset or add dimension to data array and predict )\n",
    "def predictor(rf_model,user):\n",
    "     rate = rf_model.predict([[\n",
    "        user['age'], user['gender'], user['height'], user['weight'],\n",
    "        user['ap_hi'], user['ap_lo'], user['cholesterol'], user['gluc'],\n",
    "        user['smoke'], user['alco'], user['active']\n",
    "    ]])\n",
    "     \n",
    "     print(\"Your cardiovascular desease rate \"+ str(rate))\n",
    "     \n",
    "def find_rate(input_string):\n",
    "    # Split the input string by semicolons\n",
    "    input_values = input_string.split(';')\n",
    "\n",
    "    # Map values to respective keys and convert them to appropriate data types\n",
    "    user_data = {\n",
    "        'age': int(input_values[0]),\n",
    "        'gender': int(input_values[1]),\n",
    "        'height': int(input_values[2]),\n",
    "        'weight': float(input_values[3]),\n",
    "        'ap_hi': int(input_values[4]),\n",
    "        'ap_lo': int(input_values[5]),\n",
    "        'cholesterol': int(input_values[6]),\n",
    "        'gluc': int(input_values[7]),\n",
    "        'smoke': int(input_values[8]),\n",
    "        'alco': int(input_values[9]),\n",
    "        'active': int(input_values[10])\n",
    "    }\n",
    "\n",
    "    return predictor(rf_model,user_data)\n",
    "\n",
    "# Example usage:\n",
    "input_string = \"17668;1;158;71.0;110;70;1;1;0;0;1\"\n",
    "find_rate(input_string)\n"
   ]
  },
  {
   "cell_type": "markdown",
   "metadata": {},
   "source": [
    "# This is my artificial neural network model trained by cardio_train.csv data\n"
   ]
  },
  {
   "cell_type": "code",
   "execution_count": 5,
   "metadata": {},
   "outputs": [
    {
     "name": "stderr",
     "output_type": "stream",
     "text": [
      "/home/davutcan/.local/lib/python3.10/site-packages/keras/src/layers/core/dense.py:88: UserWarning: Do not pass an `input_shape`/`input_dim` argument to a layer. When using Sequential models, prefer using an `Input(shape)` object as the first layer in the model instead.\n",
      "  super().__init__(activity_regularizer=activity_regularizer, **kwargs)\n",
      "2024-04-04 15:17:36.299270: I external/local_xla/xla/stream_executor/cuda/cuda_executor.cc:984] could not open file to read NUMA node: /sys/bus/pci/devices/0000:01:00.0/numa_node\n",
      "Your kernel may have been built without NUMA support.\n",
      "2024-04-04 15:17:36.299587: W tensorflow/core/common_runtime/gpu/gpu_device.cc:2251] Cannot dlopen some GPU libraries. Please make sure the missing libraries mentioned above are installed properly if you would like to use GPU. Follow the guide at https://www.tensorflow.org/install/gpu for how to download and setup the required libraries for your platform.\n",
      "Skipping registering GPU devices...\n"
     ]
    },
    {
     "data": {
      "text/html": [
       "<pre style=\"white-space:pre;overflow-x:auto;line-height:normal;font-family:Menlo,'DejaVu Sans Mono',consolas,'Courier New',monospace\"><span style=\"font-weight: bold\">Model: \"sequential\"</span>\n",
       "</pre>\n"
      ],
      "text/plain": [
       "\u001b[1mModel: \"sequential\"\u001b[0m\n"
      ]
     },
     "metadata": {},
     "output_type": "display_data"
    },
    {
     "data": {
      "text/html": [
       "<pre style=\"white-space:pre;overflow-x:auto;line-height:normal;font-family:Menlo,'DejaVu Sans Mono',consolas,'Courier New',monospace\">┏━━━━━━━━━━━━━━━━━━━━━━━━━━━━━━━━━┳━━━━━━━━━━━━━━━━━━━━━━━━┳━━━━━━━━━━━━━━━┓\n",
       "┃<span style=\"font-weight: bold\"> Layer (type)                    </span>┃<span style=\"font-weight: bold\"> Output Shape           </span>┃<span style=\"font-weight: bold\">       Param # </span>┃\n",
       "┡━━━━━━━━━━━━━━━━━━━━━━━━━━━━━━━━━╇━━━━━━━━━━━━━━━━━━━━━━━━╇━━━━━━━━━━━━━━━┩\n",
       "│ dense (<span style=\"color: #0087ff; text-decoration-color: #0087ff\">Dense</span>)                   │ (<span style=\"color: #00d7ff; text-decoration-color: #00d7ff\">None</span>, <span style=\"color: #00af00; text-decoration-color: #00af00\">256</span>)            │         <span style=\"color: #00af00; text-decoration-color: #00af00\">3,072</span> │\n",
       "├─────────────────────────────────┼────────────────────────┼───────────────┤\n",
       "│ dense_1 (<span style=\"color: #0087ff; text-decoration-color: #0087ff\">Dense</span>)                 │ (<span style=\"color: #00d7ff; text-decoration-color: #00d7ff\">None</span>, <span style=\"color: #00af00; text-decoration-color: #00af00\">256</span>)            │        <span style=\"color: #00af00; text-decoration-color: #00af00\">65,792</span> │\n",
       "├─────────────────────────────────┼────────────────────────┼───────────────┤\n",
       "│ dense_2 (<span style=\"color: #0087ff; text-decoration-color: #0087ff\">Dense</span>)                 │ (<span style=\"color: #00d7ff; text-decoration-color: #00d7ff\">None</span>, <span style=\"color: #00af00; text-decoration-color: #00af00\">128</span>)            │        <span style=\"color: #00af00; text-decoration-color: #00af00\">32,896</span> │\n",
       "├─────────────────────────────────┼────────────────────────┼───────────────┤\n",
       "│ dense_3 (<span style=\"color: #0087ff; text-decoration-color: #0087ff\">Dense</span>)                 │ (<span style=\"color: #00d7ff; text-decoration-color: #00d7ff\">None</span>, <span style=\"color: #00af00; text-decoration-color: #00af00\">128</span>)            │        <span style=\"color: #00af00; text-decoration-color: #00af00\">16,512</span> │\n",
       "├─────────────────────────────────┼────────────────────────┼───────────────┤\n",
       "│ dense_4 (<span style=\"color: #0087ff; text-decoration-color: #0087ff\">Dense</span>)                 │ (<span style=\"color: #00d7ff; text-decoration-color: #00d7ff\">None</span>, <span style=\"color: #00af00; text-decoration-color: #00af00\">64</span>)             │         <span style=\"color: #00af00; text-decoration-color: #00af00\">8,256</span> │\n",
       "├─────────────────────────────────┼────────────────────────┼───────────────┤\n",
       "│ dense_5 (<span style=\"color: #0087ff; text-decoration-color: #0087ff\">Dense</span>)                 │ (<span style=\"color: #00d7ff; text-decoration-color: #00d7ff\">None</span>, <span style=\"color: #00af00; text-decoration-color: #00af00\">64</span>)             │         <span style=\"color: #00af00; text-decoration-color: #00af00\">4,160</span> │\n",
       "├─────────────────────────────────┼────────────────────────┼───────────────┤\n",
       "│ dense_6 (<span style=\"color: #0087ff; text-decoration-color: #0087ff\">Dense</span>)                 │ (<span style=\"color: #00d7ff; text-decoration-color: #00d7ff\">None</span>, <span style=\"color: #00af00; text-decoration-color: #00af00\">32</span>)             │         <span style=\"color: #00af00; text-decoration-color: #00af00\">2,080</span> │\n",
       "├─────────────────────────────────┼────────────────────────┼───────────────┤\n",
       "│ dense_7 (<span style=\"color: #0087ff; text-decoration-color: #0087ff\">Dense</span>)                 │ (<span style=\"color: #00d7ff; text-decoration-color: #00d7ff\">None</span>, <span style=\"color: #00af00; text-decoration-color: #00af00\">32</span>)             │         <span style=\"color: #00af00; text-decoration-color: #00af00\">1,056</span> │\n",
       "├─────────────────────────────────┼────────────────────────┼───────────────┤\n",
       "│ dense_8 (<span style=\"color: #0087ff; text-decoration-color: #0087ff\">Dense</span>)                 │ (<span style=\"color: #00d7ff; text-decoration-color: #00d7ff\">None</span>, <span style=\"color: #00af00; text-decoration-color: #00af00\">16</span>)             │           <span style=\"color: #00af00; text-decoration-color: #00af00\">528</span> │\n",
       "├─────────────────────────────────┼────────────────────────┼───────────────┤\n",
       "│ dense_9 (<span style=\"color: #0087ff; text-decoration-color: #0087ff\">Dense</span>)                 │ (<span style=\"color: #00d7ff; text-decoration-color: #00d7ff\">None</span>, <span style=\"color: #00af00; text-decoration-color: #00af00\">16</span>)             │           <span style=\"color: #00af00; text-decoration-color: #00af00\">272</span> │\n",
       "├─────────────────────────────────┼────────────────────────┼───────────────┤\n",
       "│ dense_10 (<span style=\"color: #0087ff; text-decoration-color: #0087ff\">Dense</span>)                │ (<span style=\"color: #00d7ff; text-decoration-color: #00d7ff\">None</span>, <span style=\"color: #00af00; text-decoration-color: #00af00\">1</span>)              │            <span style=\"color: #00af00; text-decoration-color: #00af00\">17</span> │\n",
       "└─────────────────────────────────┴────────────────────────┴───────────────┘\n",
       "</pre>\n"
      ],
      "text/plain": [
       "┏━━━━━━━━━━━━━━━━━━━━━━━━━━━━━━━━━┳━━━━━━━━━━━━━━━━━━━━━━━━┳━━━━━━━━━━━━━━━┓\n",
       "┃\u001b[1m \u001b[0m\u001b[1mLayer (type)                   \u001b[0m\u001b[1m \u001b[0m┃\u001b[1m \u001b[0m\u001b[1mOutput Shape          \u001b[0m\u001b[1m \u001b[0m┃\u001b[1m \u001b[0m\u001b[1m      Param #\u001b[0m\u001b[1m \u001b[0m┃\n",
       "┡━━━━━━━━━━━━━━━━━━━━━━━━━━━━━━━━━╇━━━━━━━━━━━━━━━━━━━━━━━━╇━━━━━━━━━━━━━━━┩\n",
       "│ dense (\u001b[38;5;33mDense\u001b[0m)                   │ (\u001b[38;5;45mNone\u001b[0m, \u001b[38;5;34m256\u001b[0m)            │         \u001b[38;5;34m3,072\u001b[0m │\n",
       "├─────────────────────────────────┼────────────────────────┼───────────────┤\n",
       "│ dense_1 (\u001b[38;5;33mDense\u001b[0m)                 │ (\u001b[38;5;45mNone\u001b[0m, \u001b[38;5;34m256\u001b[0m)            │        \u001b[38;5;34m65,792\u001b[0m │\n",
       "├─────────────────────────────────┼────────────────────────┼───────────────┤\n",
       "│ dense_2 (\u001b[38;5;33mDense\u001b[0m)                 │ (\u001b[38;5;45mNone\u001b[0m, \u001b[38;5;34m128\u001b[0m)            │        \u001b[38;5;34m32,896\u001b[0m │\n",
       "├─────────────────────────────────┼────────────────────────┼───────────────┤\n",
       "│ dense_3 (\u001b[38;5;33mDense\u001b[0m)                 │ (\u001b[38;5;45mNone\u001b[0m, \u001b[38;5;34m128\u001b[0m)            │        \u001b[38;5;34m16,512\u001b[0m │\n",
       "├─────────────────────────────────┼────────────────────────┼───────────────┤\n",
       "│ dense_4 (\u001b[38;5;33mDense\u001b[0m)                 │ (\u001b[38;5;45mNone\u001b[0m, \u001b[38;5;34m64\u001b[0m)             │         \u001b[38;5;34m8,256\u001b[0m │\n",
       "├─────────────────────────────────┼────────────────────────┼───────────────┤\n",
       "│ dense_5 (\u001b[38;5;33mDense\u001b[0m)                 │ (\u001b[38;5;45mNone\u001b[0m, \u001b[38;5;34m64\u001b[0m)             │         \u001b[38;5;34m4,160\u001b[0m │\n",
       "├─────────────────────────────────┼────────────────────────┼───────────────┤\n",
       "│ dense_6 (\u001b[38;5;33mDense\u001b[0m)                 │ (\u001b[38;5;45mNone\u001b[0m, \u001b[38;5;34m32\u001b[0m)             │         \u001b[38;5;34m2,080\u001b[0m │\n",
       "├─────────────────────────────────┼────────────────────────┼───────────────┤\n",
       "│ dense_7 (\u001b[38;5;33mDense\u001b[0m)                 │ (\u001b[38;5;45mNone\u001b[0m, \u001b[38;5;34m32\u001b[0m)             │         \u001b[38;5;34m1,056\u001b[0m │\n",
       "├─────────────────────────────────┼────────────────────────┼───────────────┤\n",
       "│ dense_8 (\u001b[38;5;33mDense\u001b[0m)                 │ (\u001b[38;5;45mNone\u001b[0m, \u001b[38;5;34m16\u001b[0m)             │           \u001b[38;5;34m528\u001b[0m │\n",
       "├─────────────────────────────────┼────────────────────────┼───────────────┤\n",
       "│ dense_9 (\u001b[38;5;33mDense\u001b[0m)                 │ (\u001b[38;5;45mNone\u001b[0m, \u001b[38;5;34m16\u001b[0m)             │           \u001b[38;5;34m272\u001b[0m │\n",
       "├─────────────────────────────────┼────────────────────────┼───────────────┤\n",
       "│ dense_10 (\u001b[38;5;33mDense\u001b[0m)                │ (\u001b[38;5;45mNone\u001b[0m, \u001b[38;5;34m1\u001b[0m)              │            \u001b[38;5;34m17\u001b[0m │\n",
       "└─────────────────────────────────┴────────────────────────┴───────────────┘\n"
      ]
     },
     "metadata": {},
     "output_type": "display_data"
    },
    {
     "data": {
      "text/html": [
       "<pre style=\"white-space:pre;overflow-x:auto;line-height:normal;font-family:Menlo,'DejaVu Sans Mono',consolas,'Courier New',monospace\"><span style=\"font-weight: bold\"> Total params: </span><span style=\"color: #00af00; text-decoration-color: #00af00\">134,641</span> (525.94 KB)\n",
       "</pre>\n"
      ],
      "text/plain": [
       "\u001b[1m Total params: \u001b[0m\u001b[38;5;34m134,641\u001b[0m (525.94 KB)\n"
      ]
     },
     "metadata": {},
     "output_type": "display_data"
    },
    {
     "data": {
      "text/html": [
       "<pre style=\"white-space:pre;overflow-x:auto;line-height:normal;font-family:Menlo,'DejaVu Sans Mono',consolas,'Courier New',monospace\"><span style=\"font-weight: bold\"> Trainable params: </span><span style=\"color: #00af00; text-decoration-color: #00af00\">134,641</span> (525.94 KB)\n",
       "</pre>\n"
      ],
      "text/plain": [
       "\u001b[1m Trainable params: \u001b[0m\u001b[38;5;34m134,641\u001b[0m (525.94 KB)\n"
      ]
     },
     "metadata": {},
     "output_type": "display_data"
    },
    {
     "data": {
      "text/html": [
       "<pre style=\"white-space:pre;overflow-x:auto;line-height:normal;font-family:Menlo,'DejaVu Sans Mono',consolas,'Courier New',monospace\"><span style=\"font-weight: bold\"> Non-trainable params: </span><span style=\"color: #00af00; text-decoration-color: #00af00\">0</span> (0.00 B)\n",
       "</pre>\n"
      ],
      "text/plain": [
       "\u001b[1m Non-trainable params: \u001b[0m\u001b[38;5;34m0\u001b[0m (0.00 B)\n"
      ]
     },
     "metadata": {},
     "output_type": "display_data"
    }
   ],
   "source": [
    "model2 = Sequential([\n",
    "    Dense(256, activation='relu', input_shape=(X_train.shape[1],)),\n",
    "    Dense(256, activation='relu'),\n",
    "    Dense(128, activation='relu'),\n",
    "    Dense(128, activation='relu'),\n",
    "    Dense(64, activation='relu'),\n",
    "    Dense(64, activation='relu'),\n",
    "    Dense(32, activation='relu'),\n",
    "    Dense(32, activation='relu'),\n",
    "    Dense(16, activation='relu'),\n",
    "    Dense(16, activation='relu'),\n",
    "    Dense(1, activation='sigmoid')\n",
    "])\n",
    "\n",
    "model2.summary()"
   ]
  },
  {
   "cell_type": "code",
   "execution_count": 6,
   "metadata": {},
   "outputs": [],
   "source": [
    "optimizer1= keras.optimizers.Adam(learning_rate=0.001,beta_1=0.9,beta_2=0.999,epsilon=1e-07,amsgrad=False)\n",
    "\n",
    "model2.compile(optimizer=optimizer1, loss='binary_crossentropy', metrics=['accuracy'])\n"
   ]
  },
  {
   "cell_type": "code",
   "execution_count": 7,
   "metadata": {},
   "outputs": [
    {
     "name": "stdout",
     "output_type": "stream",
     "text": [
      "Epoch 1/10\n",
      "\u001b[1m1750/1750\u001b[0m \u001b[32m━━━━━━━━━━━━━━━━━━━━\u001b[0m\u001b[37m\u001b[0m \u001b[1m5s\u001b[0m 2ms/step - accuracy: 0.6729 - loss: 0.6107 - val_accuracy: 0.7229 - val_loss: 0.5609\n",
      "Epoch 2/10\n",
      "\u001b[1m1750/1750\u001b[0m \u001b[32m━━━━━━━━━━━━━━━━━━━━\u001b[0m\u001b[37m\u001b[0m \u001b[1m4s\u001b[0m 2ms/step - accuracy: 0.7315 - loss: 0.5487 - val_accuracy: 0.7295 - val_loss: 0.5477\n",
      "Epoch 3/10\n",
      "\u001b[1m1750/1750\u001b[0m \u001b[32m━━━━━━━━━━━━━━━━━━━━\u001b[0m\u001b[37m\u001b[0m \u001b[1m3s\u001b[0m 2ms/step - accuracy: 0.7284 - loss: 0.5500 - val_accuracy: 0.7333 - val_loss: 0.5467\n",
      "Epoch 4/10\n",
      "\u001b[1m1750/1750\u001b[0m \u001b[32m━━━━━━━━━━━━━━━━━━━━\u001b[0m\u001b[37m\u001b[0m \u001b[1m3s\u001b[0m 2ms/step - accuracy: 0.7315 - loss: 0.5463 - val_accuracy: 0.7298 - val_loss: 0.5485\n",
      "Epoch 5/10\n",
      "\u001b[1m1750/1750\u001b[0m \u001b[32m━━━━━━━━━━━━━━━━━━━━\u001b[0m\u001b[37m\u001b[0m \u001b[1m3s\u001b[0m 2ms/step - accuracy: 0.7312 - loss: 0.5479 - val_accuracy: 0.7361 - val_loss: 0.5460\n",
      "Epoch 6/10\n",
      "\u001b[1m1750/1750\u001b[0m \u001b[32m━━━━━━━━━━━━━━━━━━━━\u001b[0m\u001b[37m\u001b[0m \u001b[1m3s\u001b[0m 2ms/step - accuracy: 0.7333 - loss: 0.5434 - val_accuracy: 0.7357 - val_loss: 0.5453\n",
      "Epoch 7/10\n",
      "\u001b[1m1750/1750\u001b[0m \u001b[32m━━━━━━━━━━━━━━━━━━━━\u001b[0m\u001b[37m\u001b[0m \u001b[1m3s\u001b[0m 2ms/step - accuracy: 0.7368 - loss: 0.5384 - val_accuracy: 0.7315 - val_loss: 0.5432\n",
      "Epoch 8/10\n",
      "\u001b[1m1750/1750\u001b[0m \u001b[32m━━━━━━━━━━━━━━━━━━━━\u001b[0m\u001b[37m\u001b[0m \u001b[1m5s\u001b[0m 2ms/step - accuracy: 0.7346 - loss: 0.5418 - val_accuracy: 0.7369 - val_loss: 0.5456\n",
      "Epoch 9/10\n",
      "\u001b[1m1750/1750\u001b[0m \u001b[32m━━━━━━━━━━━━━━━━━━━━\u001b[0m\u001b[37m\u001b[0m \u001b[1m3s\u001b[0m 2ms/step - accuracy: 0.7358 - loss: 0.5391 - val_accuracy: 0.7342 - val_loss: 0.5445\n",
      "Epoch 10/10\n",
      "\u001b[1m1750/1750\u001b[0m \u001b[32m━━━━━━━━━━━━━━━━━━━━\u001b[0m\u001b[37m\u001b[0m \u001b[1m3s\u001b[0m 2ms/step - accuracy: 0.7343 - loss: 0.5409 - val_accuracy: 0.7349 - val_loss: 0.5447\n"
     ]
    }
   ],
   "source": [
    "\n",
    "history = model2.fit(X_train, y_train, epochs=10, batch_size=32, validation_data=(X_test, y_test))\n",
    "model2.save(\"./YetmisDogruluk.keras\")"
   ]
  },
  {
   "cell_type": "code",
   "execution_count": 8,
   "metadata": {},
   "outputs": [
    {
     "name": "stdout",
     "output_type": "stream",
     "text": [
      "\u001b[1m1750/1750\u001b[0m \u001b[32m━━━━━━━━━━━━━━━━━━━━\u001b[0m\u001b[37m\u001b[0m \u001b[1m1s\u001b[0m 831us/step - accuracy: 0.7363 - loss: 0.5410\n",
      "Test Loss: 0.5409\n",
      "Mean Absolute Error (MAE): 0.7361\n",
      "\u001b[1m438/438\u001b[0m \u001b[32m━━━━━━━━━━━━━━━━━━━━\u001b[0m\u001b[37m\u001b[0m \u001b[1m0s\u001b[0m 910us/step\n",
      "Model Doğruluğu: 0.7348571428571429\n",
      "              precision    recall  f1-score   support\n",
      "\n",
      "           0       0.72      0.76      0.74      7004\n",
      "           1       0.75      0.71      0.73      6996\n",
      "\n",
      "    accuracy                           0.73     14000\n",
      "   macro avg       0.74      0.73      0.73     14000\n",
      "weighted avg       0.74      0.73      0.73     14000\n",
      "\n"
     ]
    }
   ],
   "source": [
    "\n",
    "loss , mae = model2.evaluate(X_train,y_train)\n",
    "\n",
    "print(f\"Test Loss: {loss:.4f}\")\n",
    "print(f\"Mean Absolute Error (MAE): {mae:.4f}\")\n",
    "\n",
    "y_pred = model2.predict(X_test)\n",
    "\n",
    "# Convert probabilities to class labels\n",
    "y_pred = np.where(y_pred > 0.5, 1, 0)\n",
    "\n",
    "acc = accuracy_score(y_test, y_pred)\n",
    "print(\"Model Doğruluğu:\", acc)\n",
    "\n",
    "print(classification_report(y_test, y_pred))"
   ]
  },
  {
   "cell_type": "code",
   "execution_count": 9,
   "metadata": {},
   "outputs": [
    {
     "name": "stdout",
     "output_type": "stream",
     "text": [
      "\u001b[1m1/1\u001b[0m \u001b[32m━━━━━━━━━━━━━━━━━━━━\u001b[0m\u001b[37m\u001b[0m \u001b[1m0s\u001b[0m 56ms/step\n",
      "[[0.30579263]]\n",
      "\u001b[1m1/1\u001b[0m \u001b[32m━━━━━━━━━━━━━━━━━━━━\u001b[0m\u001b[37m\u001b[0m \u001b[1m0s\u001b[0m 13ms/step\n",
      "[[0.7836093]]\n"
     ]
    },
    {
     "name": "stderr",
     "output_type": "stream",
     "text": [
      "/home/davutcan/.local/lib/python3.10/site-packages/sklearn/base.py:493: UserWarning: X does not have valid feature names, but StandardScaler was fitted with feature names\n",
      "  warnings.warn(\n",
      "/home/davutcan/.local/lib/python3.10/site-packages/sklearn/base.py:493: UserWarning: X does not have valid feature names, but StandardScaler was fitted with feature names\n",
      "  warnings.warn(\n"
     ]
    }
   ],
   "source": [
    "yenimodel=load_model(\"YetmisDogruluk.keras\")\n",
    "testdata = [19834,1,164,68.0,110,60,1,1,0,0,0]\n",
    "\n",
    "testdata1 = [ 22584, 2, 178, 95.0, 130, 90, 3, 3, 0, 0, 1]\n",
    "# Scale the test data using the fitted scaler\n",
    "testdata_scaled = scaler.transform([testdata])\n",
    "testdata1_scaled= scaler.transform([testdata1])\n",
    "\n",
    "# Predict the class label using the loaded model\n",
    "prediction = yenimodel.predict(testdata_scaled)\n",
    "print(prediction)\n",
    "\n",
    "prediction1 = yenimodel.predict(testdata1_scaled)\n",
    "print(prediction1)\n",
    "\n"
   ]
  }
 ],
 "metadata": {
  "kernelspec": {
   "display_name": "Python 3",
   "language": "python",
   "name": "python3"
  },
  "language_info": {
   "codemirror_mode": {
    "name": "ipython",
    "version": 3
   },
   "file_extension": ".py",
   "mimetype": "text/x-python",
   "name": "python",
   "nbconvert_exporter": "python",
   "pygments_lexer": "ipython3",
   "version": "3.10.12"
  }
 },
 "nbformat": 4,
 "nbformat_minor": 2
}
