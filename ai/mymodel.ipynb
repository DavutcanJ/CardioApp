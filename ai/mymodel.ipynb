{
 "cells": [
  {
   "cell_type": "code",
   "execution_count": 8,
   "metadata": {},
   "outputs": [],
   "source": [
    "## This is a RandomForest model trained by cardio_train data by Me.\n",
    "\n",
    "\n",
    "import pandas as pd\n",
    "from sklearn.model_selection import train_test_split\n",
    "from sklearn.ensemble import RandomForestClassifier\n",
    "from sklearn.metrics import accuracy_score\n",
    "from tensorflow import keras\n",
    "from sklearn.tree import DecisionTreeClassifier\n",
    "from sklearn.neighbors import KNeighborsClassifier\n",
    "import sklearn.linear_model as lm\n",
    "from sklearn.metrics import classification_report\n",
    "from sklearn.preprocessing import StandardScaler\n",
    "from sklearn.metrics import ConfusionMatrixDisplay\n"
   ]
  },
  {
   "cell_type": "code",
   "execution_count": 9,
   "metadata": {},
   "outputs": [
    {
     "name": "stdout",
     "output_type": "stream",
     "text": [
      "   id    age  gender  height  weight  ap_hi  ap_lo  cholesterol  gluc  smoke  \\\n",
      "0   0  18393       2     168    62.0    110     80            1     1      0   \n",
      "1   1  20228       1     156    85.0    140     90            3     1      0   \n",
      "2   2  18857       1     165    64.0    130     70            3     1      0   \n",
      "3   3  17623       2     169    82.0    150    100            1     1      0   \n",
      "4   4  17474       1     156    56.0    100     60            1     1      0   \n",
      "\n",
      "   alco  active  cardio  \n",
      "0     0       1       0  \n",
      "1     0       1       1  \n",
      "2     0       0       1  \n",
      "3     0       1       1  \n",
      "4     0       0       0  \n",
      "age            0\n",
      "gender         0\n",
      "height         0\n",
      "weight         0\n",
      "ap_hi          0\n",
      "ap_lo          0\n",
      "cholesterol    0\n",
      "gluc           0\n",
      "smoke          0\n",
      "alco           0\n",
      "active         0\n",
      "cardio         0\n",
      "dtype: int64\n"
     ]
    }
   ],
   "source": [
    "data = pd.read_csv(\"cardio_train.csv\",sep=\";\")\n",
    "\n",
    "\n",
    "print(data.head())\n",
    "\n",
    "\n",
    "data = data.drop(0)\n",
    "    \n",
    "data = data.drop(columns=['id'])\n",
    "\n",
    "\n",
    "nan_values = data.isna().sum()\n",
    "print(nan_values)"
   ]
  },
  {
   "cell_type": "code",
   "execution_count": 10,
   "metadata": {},
   "outputs": [],
   "source": [
    "\n",
    "X = data.drop('cardio', axis=1)  \n",
    "y = data['cardio']  \n",
    "\n",
    "X_train, X_test, y_train, y_test = train_test_split(X, y, test_size=0.2, random_state=42, stratify=y)\n",
    "\n",
    "# Initialize the StandardScaler\n",
    "scaler = StandardScaler()\n",
    "\n",
    "# Fit the scaler to your data\n",
    "X_train_scaled =scaler.fit_transform(X_train)\n",
    "X_test_scaled = scaler.transform(X_test)\n",
    "# Transform the data using the fitted scaler\n"
   ]
  },
  {
   "cell_type": "code",
   "execution_count": 33,
   "metadata": {},
   "outputs": [],
   "source": [
    "\n",
    "def Machine_Learning(X_train, X_test, y_train, y_test):\n",
    "    print(\"Machine Learning\")\n",
    "    print(\"=====================================\")\n",
    "\n",
    "    log_reg = lm.LogisticRegression()\n",
    "    log_reg.fit(X_train, y_train)\n",
    "    log_reg_score = log_reg.score(X_test, y_test)\n",
    "    print(\"Logistic Regression Testing Accuracy: \", log_reg_score)\n",
    "    print(\"Logistic Regression Classification Report: \")\n",
    "    print(classification_report(y_test, log_reg.predict(X_test)))\n",
    "    print(\"=====================================\")\n",
    "\n",
    "    # Decision Tree\n",
    "    Decision_tree = DecisionTreeClassifier(criterion=\"gini\", random_state=42, max_depth=None, min_samples_leaf=5)\n",
    "    Decision_tree.fit(X_train, y_train)\n",
    "    Decision_tree_score = Decision_tree.score(X_test, y_test)\n",
    "    print(\"Decision Tree Testing Accuracy: \", Decision_tree_score)\n",
    "    print(\"Decision Tree Classification Report: \")\n",
    "    print(classification_report(y_test, Decision_tree.predict(X_test)))\n",
    "    print(\"=====================================\")\n",
    "\n",
    "    knn = KNeighborsClassifier(n_neighbors=5)\n",
    "    knn.fit(X_train, y_train)\n",
    "    knn_score = knn.score(X_test, y_test)\n",
    "    print(\"KNN Testing Accuracy: \", knn_score)\n",
    "    print(\"=====================================\")\n",
    "\n",
    "    lin_reg = lm.LinearRegression()\n",
    "    lin_reg.fit(X_train, y_train)\n",
    "    lin_reg_score = lin_reg.score(X_test, y_test)\n",
    "    print(\"Linear Regression Testing Accuracy: \", lin_reg_score)\n",
    "    print(\"=====================================\")\n",
    "\n",
    "    Sgd_reg = lm.SGDRegressor()\n",
    "    Sgd_reg.fit(X_train, y_train)\n",
    "    Sgd_reg_score = Sgd_reg.score(X_test, y_test)\n",
    "    print(\"SGD Testing Accuracy: \", Sgd_reg_score)\n",
    "    print(\"=====================================\")\n",
    "\n",
    "    Ridge_reg = lm.Ridge()\n",
    "    Ridge_reg.fit(X_train, y_train)\n",
    "    Ridge_reg_score = Ridge_reg.score(X_test, y_test)\n",
    "    print(\"Ridge Testing Accuracy: \", Ridge_reg_score)\n",
    "    print(\"=====================================\")\n",
    "\n",
    "    Lasso_reg = lm.Lasso()\n",
    "    Lasso_reg.fit(X_train, y_train)\n",
    "    Lasso_reg_score = Lasso_reg.score(X_test, y_test)\n",
    "    print(\"Lasso Testing Accuracy: \", Lasso_reg_score)\n",
    "    print(\"=====================================\")\n",
    "\n",
    "    Elastic_reg = lm.ElasticNet()\n",
    "    Elastic_reg.fit(X_train, y_train)\n",
    "    Elastic_reg_score = Elastic_reg.score(X_test, y_test)\n",
    "    print(\"Elastic Testing Accuracy: \", Elastic_reg_score)\n",
    "    print(\"=====================================\")\n",
    "\n",
    "    Huber_reg = lm.HuberRegressor()\n",
    "    Huber_reg.fit(X_train, y_train)\n",
    "    Huber_reg_score = Huber_reg.score(X_test, y_test)\n",
    "    print(\"Huber Testing Accuracy: \", Huber_reg_score)\n",
    "    print(\"=====================================\")\n",
    "\n",
    "    Ransac_reg = lm.RANSACRegressor()\n",
    "    Ransac_reg.fit(X_train, y_train)\n",
    "    Ransac_reg_score = Ransac_reg.score(X_test, y_test)\n",
    "    print(\"Ransac Testing Accuracy: \", Ransac_reg_score)\n",
    "    print(\"=====================================\")\n",
    "\n",
    "    # Theil regression is not working (Low memory)\n",
    "    # Theil_reg = lm.TheilSenRegressor()\n",
    "    # Theil_reg.fit(X_train, y_train)\n",
    "    # Theil_reg_score = Theil_reg.score(X_test, y_test)\n",
    "    # print(\"Theil Testing Accuracy: \", Theil_reg_score)\n",
    "\n",
    "    models = [log_reg, Decision_tree, knn, lin_reg, Sgd_reg, Ridge_reg, Lasso_reg, Elastic_reg, Huber_reg, Ransac_reg]\n",
    "    scores = [log_reg_score,\n",
    "              Decision_tree_score,\n",
    "              knn_score,\n",
    "              lin_reg_score,\n",
    "              Sgd_reg_score,\n",
    "              Ridge_reg_score,\n",
    "              Lasso_reg_score,\n",
    "              Elastic_reg_score,\n",
    "              Huber_reg_score,\n",
    "              Ransac_reg_score]\n",
    "\n",
    "    print(\"---------------------------------------------------------------------------------\")\n",
    "\n",
    "    return models, scores\n"
   ]
  },
  {
   "cell_type": "code",
   "execution_count": 34,
   "metadata": {},
   "outputs": [
    {
     "name": "stdout",
     "output_type": "stream",
     "text": [
      "Machine Learning\n",
      "=====================================\n",
      "Logistic Regression Testing Accuracy:  0.7208571428571429\n",
      "Logistic Regression Classification Report: \n",
      "              precision    recall  f1-score   support\n",
      "\n",
      "           0       0.70      0.77      0.73      7004\n",
      "           1       0.74      0.67      0.71      6996\n",
      "\n",
      "    accuracy                           0.72     14000\n",
      "   macro avg       0.72      0.72      0.72     14000\n",
      "weighted avg       0.72      0.72      0.72     14000\n",
      "\n",
      "=====================================\n",
      "Decision Tree Testing Accuracy:  0.6589285714285714\n",
      "Decision Tree Classification Report: \n",
      "              precision    recall  f1-score   support\n",
      "\n",
      "           0       0.65      0.68      0.67      7004\n",
      "           1       0.67      0.64      0.65      6996\n",
      "\n",
      "    accuracy                           0.66     14000\n",
      "   macro avg       0.66      0.66      0.66     14000\n",
      "weighted avg       0.66      0.66      0.66     14000\n",
      "\n",
      "=====================================\n",
      "KNN Testing Accuracy:  0.6530714285714285\n",
      "=====================================\n",
      "Linear Regression Testing Accuracy:  0.1175876457723436\n",
      "=====================================\n",
      "SGD Testing Accuracy:  -6.251093155664234e+20\n",
      "=====================================\n",
      "Ridge Testing Accuracy:  0.1175876951891347\n",
      "=====================================\n",
      "Lasso Testing Accuracy:  -3.192537345597657e-10\n",
      "=====================================\n",
      "Elastic Testing Accuracy:  -3.192537345597657e-10\n",
      "=====================================\n",
      "Huber Testing Accuracy:  -3.3699793459749277\n",
      "=====================================\n"
     ]
    },
    {
     "name": "stderr",
     "output_type": "stream",
     "text": [
      "/home/davutcan/.local/lib/python3.10/site-packages/sklearn/metrics/_regression.py:1187: UndefinedMetricWarning: R^2 score is not well-defined with less than two samples.\n",
      "  warnings.warn(msg, UndefinedMetricWarning)\n",
      "/home/davutcan/.local/lib/python3.10/site-packages/sklearn/metrics/_regression.py:1187: UndefinedMetricWarning: R^2 score is not well-defined with less than two samples.\n",
      "  warnings.warn(msg, UndefinedMetricWarning)\n"
     ]
    },
    {
     "name": "stdout",
     "output_type": "stream",
     "text": [
      "Ransac Testing Accuracy:  -2388.000994367678\n",
      "=====================================\n",
      "---------------------------------------------------------------------------------\n"
     ]
    },
    {
     "data": {
      "text/plain": [
       "([LogisticRegression(),\n",
       "  DecisionTreeClassifier(min_samples_leaf=5, random_state=42),\n",
       "  KNeighborsClassifier(),\n",
       "  LinearRegression(),\n",
       "  SGDRegressor(),\n",
       "  Ridge(),\n",
       "  Lasso(),\n",
       "  ElasticNet(),\n",
       "  HuberRegressor(),\n",
       "  RANSACRegressor()],\n",
       " [0.7208571428571429,\n",
       "  0.6589285714285714,\n",
       "  0.6530714285714285,\n",
       "  0.1175876457723436,\n",
       "  -6.251093155664234e+20,\n",
       "  0.1175876951891347,\n",
       "  -3.192537345597657e-10,\n",
       "  -3.192537345597657e-10,\n",
       "  -3.3699793459749277,\n",
       "  -2388.000994367678])"
      ]
     },
     "execution_count": 34,
     "metadata": {},
     "output_type": "execute_result"
    }
   ],
   "source": [
    "Machine_Learning(X_train_scaled,X_test_scaled,y_train,y_test)"
   ]
  },
  {
   "cell_type": "code",
   "execution_count": 4,
   "metadata": {},
   "outputs": [
    {
     "name": "stdout",
     "output_type": "stream",
     "text": [
      "Model Doğruluğu: 0.7152142857142857\n",
      "Best Parameters:  {'max_depth': 10, 'n_estimators': 200}\n",
      "Train Accuracy:  0.7556206360827872\n",
      "Test Accuracy:  0.7339285714285714\n"
     ]
    }
   ],
   "source": [
    "from sklearn.model_selection import GridSearchCV\n",
    "model = RandomForestClassifier() \n",
    "# Random Forest selected\n",
    "model.fit(X_train_scaled, y_train)\n",
    "\n",
    "# Test the accuracy and find best parameters \n",
    "y_pred = model.predict(X_test_scaled)\n",
    "accuracy = accuracy_score(y_test, y_pred)\n",
    "print(\"Model Doğruluğu:\", accuracy)\n",
    "\n",
    "param_grid = {'n_estimators': [100, 200, 300], 'max_depth': [5, 10, 20]}\n",
    "\n",
    "grid_search = GridSearchCV(model, param_grid, cv=5)\n",
    "grid_search.fit(X_train_scaled, y_train)\n",
    "best_params = grid_search.best_params_\n",
    "print('Best Parameters: ', best_params)\n",
    "\n",
    "best_rand_forest = RandomForestClassifier(**best_params)\n",
    "best_rand_forest.fit(X_train_scaled, y_train)\n",
    "print('Train Accuracy: ', best_rand_forest.score(X_train_scaled,y_train))\n",
    "print('Test Accuracy: ', best_rand_forest.score(X_test_scaled,y_test))"
   ]
  },
  {
   "cell_type": "code",
   "execution_count": 35,
   "metadata": {},
   "outputs": [
    {
     "name": "stdout",
     "output_type": "stream",
     "text": [
      "[0 0 0 ... 1 0 1]\n"
     ]
    }
   ],
   "source": [
    "## Find the best result for random forest\n",
    "\n",
    "import matplotlib.pyplot as plt\n",
    "y_predictions = best_rand_forest.predict(X_test_scaled)\n",
    "\n",
    "\n",
    "print(y_predictions)\n",
    "print(classification_report(y_test, y_predictions))\n",
    "\n",
    "ConfusionMatrixDisplay.from_predictions(y_test, y_predictions)\n",
    "plt.show()\n"
   ]
  },
  {
   "cell_type": "code",
   "execution_count": 8,
   "metadata": {},
   "outputs": [
    {
     "data": {
      "text/plain": [
       "['random_forest_model.joblib']"
      ]
     },
     "execution_count": 8,
     "metadata": {},
     "output_type": "execute_result"
    }
   ],
   "source": [
    "## saving and loading model \n",
    "\n",
    "from joblib import dump\n",
    "dump(best_rand_forest, 'random_forest_model.joblib')\n"
   ]
  },
  {
   "cell_type": "code",
   "execution_count": 9,
   "metadata": {},
   "outputs": [],
   "source": [
    "from joblib import load\n",
    "\n",
    "# Load the model from the file\n",
    "rf_model = load('random_forest_model.joblib')\n"
   ]
  },
  {
   "cell_type": "code",
   "execution_count": 54,
   "metadata": {},
   "outputs": [
    {
     "name": "stdout",
     "output_type": "stream",
     "text": [
      "Your cardiovascular desease rate [1]\n"
     ]
    }
   ],
   "source": [
    "## Input test functions  (You can just enter the string as in the dataset or add dimension to data array and predict )\n",
    "def predictor(rf_model,user):\n",
    "     rate = rf_model.predict([[\n",
    "        user['age'], user['gender'], user['height'], user['weight'],\n",
    "        user['ap_hi'], user['ap_lo'], user['cholesterol'], user['gluc'],\n",
    "        user['smoke'], user['alco'], user['active']\n",
    "    ]])\n",
    "     \n",
    "     print(\"Your cardiovascular desease rate \"+ str(rate))\n",
    "     \n",
    "def find_rate(input_string):\n",
    "    # Split the input string by semicolons\n",
    "    input_values = input_string.split(';')\n",
    "\n",
    "    # Map values to respective keys and convert them to appropriate data types\n",
    "    user_data = {\n",
    "        'age': int(input_values[0]),\n",
    "        'gender': int(input_values[1]),\n",
    "        'height': int(input_values[2]),\n",
    "        'weight': float(input_values[3]),\n",
    "        'ap_hi': int(input_values[4]),\n",
    "        'ap_lo': int(input_values[5]),\n",
    "        'cholesterol': int(input_values[6]),\n",
    "        'gluc': int(input_values[7]),\n",
    "        'smoke': int(input_values[8]),\n",
    "        'alco': int(input_values[9]),\n",
    "        'active': int(input_values[10])\n",
    "    }\n",
    "\n",
    "    return predictor(rf_model,user_data)\n",
    "\n",
    "# Example usage:\n",
    "input_string = \"18815;2;173;60.0;120;80;1;1;0;0;1\"\n",
    "find_rate(input_string)\n"
   ]
  },
  {
   "cell_type": "markdown",
   "metadata": {},
   "source": [
    "# This is my artificial neural network model trained by cardio_train.csv data\n"
   ]
  },
  {
   "cell_type": "code",
   "execution_count": 11,
   "metadata": {},
   "outputs": [],
   "source": [
    "from keras.models import Sequential, load_model\n",
    "from keras.layers import Dense\n",
    "from tensorflow import keras"
   ]
  },
  {
   "cell_type": "code",
   "execution_count": 12,
   "metadata": {},
   "outputs": [
    {
     "name": "stderr",
     "output_type": "stream",
     "text": [
      "/home/davutcan/.local/lib/python3.10/site-packages/keras/src/layers/core/dense.py:88: UserWarning: Do not pass an `input_shape`/`input_dim` argument to a layer. When using Sequential models, prefer using an `Input(shape)` object as the first layer in the model instead.\n",
      "  super().__init__(activity_regularizer=activity_regularizer, **kwargs)\n"
     ]
    },
    {
     "data": {
      "text/html": [
       "<pre style=\"white-space:pre;overflow-x:auto;line-height:normal;font-family:Menlo,'DejaVu Sans Mono',consolas,'Courier New',monospace\"><span style=\"font-weight: bold\">Model: \"sequential_1\"</span>\n",
       "</pre>\n"
      ],
      "text/plain": [
       "\u001b[1mModel: \"sequential_1\"\u001b[0m\n"
      ]
     },
     "metadata": {},
     "output_type": "display_data"
    },
    {
     "data": {
      "text/html": [
       "<pre style=\"white-space:pre;overflow-x:auto;line-height:normal;font-family:Menlo,'DejaVu Sans Mono',consolas,'Courier New',monospace\">┏━━━━━━━━━━━━━━━━━━━━━━━━━━━━━━━━━┳━━━━━━━━━━━━━━━━━━━━━━━━┳━━━━━━━━━━━━━━━┓\n",
       "┃<span style=\"font-weight: bold\"> Layer (type)                    </span>┃<span style=\"font-weight: bold\"> Output Shape           </span>┃<span style=\"font-weight: bold\">       Param # </span>┃\n",
       "┡━━━━━━━━━━━━━━━━━━━━━━━━━━━━━━━━━╇━━━━━━━━━━━━━━━━━━━━━━━━╇━━━━━━━━━━━━━━━┩\n",
       "│ dense_11 (<span style=\"color: #0087ff; text-decoration-color: #0087ff\">Dense</span>)                │ (<span style=\"color: #00d7ff; text-decoration-color: #00d7ff\">None</span>, <span style=\"color: #00af00; text-decoration-color: #00af00\">256</span>)            │         <span style=\"color: #00af00; text-decoration-color: #00af00\">3,072</span> │\n",
       "├─────────────────────────────────┼────────────────────────┼───────────────┤\n",
       "│ dense_12 (<span style=\"color: #0087ff; text-decoration-color: #0087ff\">Dense</span>)                │ (<span style=\"color: #00d7ff; text-decoration-color: #00d7ff\">None</span>, <span style=\"color: #00af00; text-decoration-color: #00af00\">256</span>)            │        <span style=\"color: #00af00; text-decoration-color: #00af00\">65,792</span> │\n",
       "├─────────────────────────────────┼────────────────────────┼───────────────┤\n",
       "│ dense_13 (<span style=\"color: #0087ff; text-decoration-color: #0087ff\">Dense</span>)                │ (<span style=\"color: #00d7ff; text-decoration-color: #00d7ff\">None</span>, <span style=\"color: #00af00; text-decoration-color: #00af00\">128</span>)            │        <span style=\"color: #00af00; text-decoration-color: #00af00\">32,896</span> │\n",
       "├─────────────────────────────────┼────────────────────────┼───────────────┤\n",
       "│ dense_14 (<span style=\"color: #0087ff; text-decoration-color: #0087ff\">Dense</span>)                │ (<span style=\"color: #00d7ff; text-decoration-color: #00d7ff\">None</span>, <span style=\"color: #00af00; text-decoration-color: #00af00\">128</span>)            │        <span style=\"color: #00af00; text-decoration-color: #00af00\">16,512</span> │\n",
       "├─────────────────────────────────┼────────────────────────┼───────────────┤\n",
       "│ dense_15 (<span style=\"color: #0087ff; text-decoration-color: #0087ff\">Dense</span>)                │ (<span style=\"color: #00d7ff; text-decoration-color: #00d7ff\">None</span>, <span style=\"color: #00af00; text-decoration-color: #00af00\">64</span>)             │         <span style=\"color: #00af00; text-decoration-color: #00af00\">8,256</span> │\n",
       "├─────────────────────────────────┼────────────────────────┼───────────────┤\n",
       "│ dense_16 (<span style=\"color: #0087ff; text-decoration-color: #0087ff\">Dense</span>)                │ (<span style=\"color: #00d7ff; text-decoration-color: #00d7ff\">None</span>, <span style=\"color: #00af00; text-decoration-color: #00af00\">64</span>)             │         <span style=\"color: #00af00; text-decoration-color: #00af00\">4,160</span> │\n",
       "├─────────────────────────────────┼────────────────────────┼───────────────┤\n",
       "│ dense_17 (<span style=\"color: #0087ff; text-decoration-color: #0087ff\">Dense</span>)                │ (<span style=\"color: #00d7ff; text-decoration-color: #00d7ff\">None</span>, <span style=\"color: #00af00; text-decoration-color: #00af00\">32</span>)             │         <span style=\"color: #00af00; text-decoration-color: #00af00\">2,080</span> │\n",
       "├─────────────────────────────────┼────────────────────────┼───────────────┤\n",
       "│ dense_18 (<span style=\"color: #0087ff; text-decoration-color: #0087ff\">Dense</span>)                │ (<span style=\"color: #00d7ff; text-decoration-color: #00d7ff\">None</span>, <span style=\"color: #00af00; text-decoration-color: #00af00\">32</span>)             │         <span style=\"color: #00af00; text-decoration-color: #00af00\">1,056</span> │\n",
       "├─────────────────────────────────┼────────────────────────┼───────────────┤\n",
       "│ dense_19 (<span style=\"color: #0087ff; text-decoration-color: #0087ff\">Dense</span>)                │ (<span style=\"color: #00d7ff; text-decoration-color: #00d7ff\">None</span>, <span style=\"color: #00af00; text-decoration-color: #00af00\">16</span>)             │           <span style=\"color: #00af00; text-decoration-color: #00af00\">528</span> │\n",
       "├─────────────────────────────────┼────────────────────────┼───────────────┤\n",
       "│ dense_20 (<span style=\"color: #0087ff; text-decoration-color: #0087ff\">Dense</span>)                │ (<span style=\"color: #00d7ff; text-decoration-color: #00d7ff\">None</span>, <span style=\"color: #00af00; text-decoration-color: #00af00\">16</span>)             │           <span style=\"color: #00af00; text-decoration-color: #00af00\">272</span> │\n",
       "├─────────────────────────────────┼────────────────────────┼───────────────┤\n",
       "│ dense_21 (<span style=\"color: #0087ff; text-decoration-color: #0087ff\">Dense</span>)                │ (<span style=\"color: #00d7ff; text-decoration-color: #00d7ff\">None</span>, <span style=\"color: #00af00; text-decoration-color: #00af00\">1</span>)              │            <span style=\"color: #00af00; text-decoration-color: #00af00\">17</span> │\n",
       "└─────────────────────────────────┴────────────────────────┴───────────────┘\n",
       "</pre>\n"
      ],
      "text/plain": [
       "┏━━━━━━━━━━━━━━━━━━━━━━━━━━━━━━━━━┳━━━━━━━━━━━━━━━━━━━━━━━━┳━━━━━━━━━━━━━━━┓\n",
       "┃\u001b[1m \u001b[0m\u001b[1mLayer (type)                   \u001b[0m\u001b[1m \u001b[0m┃\u001b[1m \u001b[0m\u001b[1mOutput Shape          \u001b[0m\u001b[1m \u001b[0m┃\u001b[1m \u001b[0m\u001b[1m      Param #\u001b[0m\u001b[1m \u001b[0m┃\n",
       "┡━━━━━━━━━━━━━━━━━━━━━━━━━━━━━━━━━╇━━━━━━━━━━━━━━━━━━━━━━━━╇━━━━━━━━━━━━━━━┩\n",
       "│ dense_11 (\u001b[38;5;33mDense\u001b[0m)                │ (\u001b[38;5;45mNone\u001b[0m, \u001b[38;5;34m256\u001b[0m)            │         \u001b[38;5;34m3,072\u001b[0m │\n",
       "├─────────────────────────────────┼────────────────────────┼───────────────┤\n",
       "│ dense_12 (\u001b[38;5;33mDense\u001b[0m)                │ (\u001b[38;5;45mNone\u001b[0m, \u001b[38;5;34m256\u001b[0m)            │        \u001b[38;5;34m65,792\u001b[0m │\n",
       "├─────────────────────────────────┼────────────────────────┼───────────────┤\n",
       "│ dense_13 (\u001b[38;5;33mDense\u001b[0m)                │ (\u001b[38;5;45mNone\u001b[0m, \u001b[38;5;34m128\u001b[0m)            │        \u001b[38;5;34m32,896\u001b[0m │\n",
       "├─────────────────────────────────┼────────────────────────┼───────────────┤\n",
       "│ dense_14 (\u001b[38;5;33mDense\u001b[0m)                │ (\u001b[38;5;45mNone\u001b[0m, \u001b[38;5;34m128\u001b[0m)            │        \u001b[38;5;34m16,512\u001b[0m │\n",
       "├─────────────────────────────────┼────────────────────────┼───────────────┤\n",
       "│ dense_15 (\u001b[38;5;33mDense\u001b[0m)                │ (\u001b[38;5;45mNone\u001b[0m, \u001b[38;5;34m64\u001b[0m)             │         \u001b[38;5;34m8,256\u001b[0m │\n",
       "├─────────────────────────────────┼────────────────────────┼───────────────┤\n",
       "│ dense_16 (\u001b[38;5;33mDense\u001b[0m)                │ (\u001b[38;5;45mNone\u001b[0m, \u001b[38;5;34m64\u001b[0m)             │         \u001b[38;5;34m4,160\u001b[0m │\n",
       "├─────────────────────────────────┼────────────────────────┼───────────────┤\n",
       "│ dense_17 (\u001b[38;5;33mDense\u001b[0m)                │ (\u001b[38;5;45mNone\u001b[0m, \u001b[38;5;34m32\u001b[0m)             │         \u001b[38;5;34m2,080\u001b[0m │\n",
       "├─────────────────────────────────┼────────────────────────┼───────────────┤\n",
       "│ dense_18 (\u001b[38;5;33mDense\u001b[0m)                │ (\u001b[38;5;45mNone\u001b[0m, \u001b[38;5;34m32\u001b[0m)             │         \u001b[38;5;34m1,056\u001b[0m │\n",
       "├─────────────────────────────────┼────────────────────────┼───────────────┤\n",
       "│ dense_19 (\u001b[38;5;33mDense\u001b[0m)                │ (\u001b[38;5;45mNone\u001b[0m, \u001b[38;5;34m16\u001b[0m)             │           \u001b[38;5;34m528\u001b[0m │\n",
       "├─────────────────────────────────┼────────────────────────┼───────────────┤\n",
       "│ dense_20 (\u001b[38;5;33mDense\u001b[0m)                │ (\u001b[38;5;45mNone\u001b[0m, \u001b[38;5;34m16\u001b[0m)             │           \u001b[38;5;34m272\u001b[0m │\n",
       "├─────────────────────────────────┼────────────────────────┼───────────────┤\n",
       "│ dense_21 (\u001b[38;5;33mDense\u001b[0m)                │ (\u001b[38;5;45mNone\u001b[0m, \u001b[38;5;34m1\u001b[0m)              │            \u001b[38;5;34m17\u001b[0m │\n",
       "└─────────────────────────────────┴────────────────────────┴───────────────┘\n"
      ]
     },
     "metadata": {},
     "output_type": "display_data"
    },
    {
     "data": {
      "text/html": [
       "<pre style=\"white-space:pre;overflow-x:auto;line-height:normal;font-family:Menlo,'DejaVu Sans Mono',consolas,'Courier New',monospace\"><span style=\"font-weight: bold\"> Total params: </span><span style=\"color: #00af00; text-decoration-color: #00af00\">134,641</span> (525.94 KB)\n",
       "</pre>\n"
      ],
      "text/plain": [
       "\u001b[1m Total params: \u001b[0m\u001b[38;5;34m134,641\u001b[0m (525.94 KB)\n"
      ]
     },
     "metadata": {},
     "output_type": "display_data"
    },
    {
     "data": {
      "text/html": [
       "<pre style=\"white-space:pre;overflow-x:auto;line-height:normal;font-family:Menlo,'DejaVu Sans Mono',consolas,'Courier New',monospace\"><span style=\"font-weight: bold\"> Trainable params: </span><span style=\"color: #00af00; text-decoration-color: #00af00\">134,641</span> (525.94 KB)\n",
       "</pre>\n"
      ],
      "text/plain": [
       "\u001b[1m Trainable params: \u001b[0m\u001b[38;5;34m134,641\u001b[0m (525.94 KB)\n"
      ]
     },
     "metadata": {},
     "output_type": "display_data"
    },
    {
     "data": {
      "text/html": [
       "<pre style=\"white-space:pre;overflow-x:auto;line-height:normal;font-family:Menlo,'DejaVu Sans Mono',consolas,'Courier New',monospace\"><span style=\"font-weight: bold\"> Non-trainable params: </span><span style=\"color: #00af00; text-decoration-color: #00af00\">0</span> (0.00 B)\n",
       "</pre>\n"
      ],
      "text/plain": [
       "\u001b[1m Non-trainable params: \u001b[0m\u001b[38;5;34m0\u001b[0m (0.00 B)\n"
      ]
     },
     "metadata": {},
     "output_type": "display_data"
    }
   ],
   "source": [
    "model2 = Sequential([\n",
    "    Dense(256, activation='relu', input_shape=(11,)),\n",
    "    Dense(256, activation='relu'),\n",
    "    Dense(128, activation='relu'),\n",
    "    Dense(128, activation='relu'),\n",
    "    Dense(64, activation='relu'),\n",
    "    Dense(64, activation='relu'),\n",
    "    Dense(32, activation='relu'),\n",
    "    Dense(32, activation='relu'),\n",
    "    Dense(16, activation='relu'),\n",
    "    Dense(16, activation='relu'),\n",
    "    Dense(1, activation='sigmoid')\n",
    "])\n",
    "\n",
    "model2.summary()"
   ]
  },
  {
   "cell_type": "code",
   "execution_count": 13,
   "metadata": {},
   "outputs": [],
   "source": [
    "optimizer1= keras.optimizers.Adam(learning_rate=0.001,beta_1=0.9,beta_2=0.999,epsilon=1e-07,amsgrad=False)\n",
    "model2.compile(optimizer=optimizer1, loss=\"categorical_crossentropy\", metrics=[\"accuracy\"])"
   ]
  },
  {
   "cell_type": "code",
   "execution_count": 14,
   "metadata": {},
   "outputs": [
    {
     "name": "stdout",
     "output_type": "stream",
     "text": [
      "Epoch 1/100\n"
     ]
    },
    {
     "name": "stderr",
     "output_type": "stream",
     "text": [
      "/home/davutcan/.local/lib/python3.10/site-packages/keras/src/losses/losses.py:22: SyntaxWarning: In loss categorical_crossentropy, expected y_pred.shape to be (batch_size, num_classes) with num_classes > 1. Received: y_pred.shape=(None, 1). Consider using 'binary_crossentropy' if you only have 2 classes.\n",
      "  return self.fn(y_true, y_pred, **self._fn_kwargs)\n"
     ]
    },
    {
     "name": "stdout",
     "output_type": "stream",
     "text": [
      "\u001b[1m1374/1400\u001b[0m \u001b[32m━━━━━━━━━━━━━━━━━━━\u001b[0m\u001b[37m━\u001b[0m \u001b[1m0s\u001b[0m 2ms/step - accuracy: 0.5024 - loss: nan"
     ]
    },
    {
     "name": "stderr",
     "output_type": "stream",
     "text": [
      "/home/davutcan/.local/lib/python3.10/site-packages/keras/src/losses/losses.py:22: SyntaxWarning: In loss categorical_crossentropy, expected y_pred.shape to be (batch_size, num_classes) with num_classes > 1. Received: y_pred.shape=(32, 1). Consider using 'binary_crossentropy' if you only have 2 classes.\n",
      "  return self.fn(y_true, y_pred, **self._fn_kwargs)\n"
     ]
    },
    {
     "name": "stdout",
     "output_type": "stream",
     "text": [
      "\u001b[1m1400/1400\u001b[0m \u001b[32m━━━━━━━━━━━━━━━━━━━━\u001b[0m\u001b[37m\u001b[0m \u001b[1m4s\u001b[0m 2ms/step - accuracy: 0.5024 - loss: nan - val_accuracy: 0.4996 - val_loss: nan\n",
      "Epoch 2/100\n",
      "\u001b[1m1400/1400\u001b[0m \u001b[32m━━━━━━━━━━━━━━━━━━━━\u001b[0m\u001b[37m\u001b[0m \u001b[1m5s\u001b[0m 2ms/step - accuracy: 0.5005 - loss: nan - val_accuracy: 0.4996 - val_loss: nan\n",
      "Epoch 3/100\n",
      "\u001b[1m1400/1400\u001b[0m \u001b[32m━━━━━━━━━━━━━━━━━━━━\u001b[0m\u001b[37m\u001b[0m \u001b[1m3s\u001b[0m 2ms/step - accuracy: 0.5016 - loss: nan - val_accuracy: 0.4996 - val_loss: nan\n",
      "Epoch 4/100\n",
      "\u001b[1m1400/1400\u001b[0m \u001b[32m━━━━━━━━━━━━━━━━━━━━\u001b[0m\u001b[37m\u001b[0m \u001b[1m5s\u001b[0m 2ms/step - accuracy: 0.4989 - loss: nan - val_accuracy: 0.4996 - val_loss: nan\n",
      "Epoch 5/100\n",
      "\u001b[1m1400/1400\u001b[0m \u001b[32m━━━━━━━━━━━━━━━━━━━━\u001b[0m\u001b[37m\u001b[0m \u001b[1m2s\u001b[0m 2ms/step - accuracy: 0.5003 - loss: nan - val_accuracy: 0.4996 - val_loss: nan\n",
      "Epoch 6/100\n",
      "\u001b[1m1400/1400\u001b[0m \u001b[32m━━━━━━━━━━━━━━━━━━━━\u001b[0m\u001b[37m\u001b[0m \u001b[1m2s\u001b[0m 2ms/step - accuracy: 0.5019 - loss: nan - val_accuracy: 0.4996 - val_loss: nan\n",
      "Epoch 7/100\n",
      "\u001b[1m1400/1400\u001b[0m \u001b[32m━━━━━━━━━━━━━━━━━━━━\u001b[0m\u001b[37m\u001b[0m \u001b[1m2s\u001b[0m 2ms/step - accuracy: 0.4973 - loss: nan - val_accuracy: 0.4996 - val_loss: nan\n",
      "Epoch 8/100\n",
      "\u001b[1m1400/1400\u001b[0m \u001b[32m━━━━━━━━━━━━━━━━━━━━\u001b[0m\u001b[37m\u001b[0m \u001b[1m2s\u001b[0m 2ms/step - accuracy: 0.4991 - loss: nan - val_accuracy: 0.4996 - val_loss: nan\n",
      "Epoch 9/100\n",
      "\u001b[1m1400/1400\u001b[0m \u001b[32m━━━━━━━━━━━━━━━━━━━━\u001b[0m\u001b[37m\u001b[0m \u001b[1m2s\u001b[0m 2ms/step - accuracy: 0.5011 - loss: nan - val_accuracy: 0.4996 - val_loss: nan\n",
      "Epoch 10/100\n",
      "\u001b[1m1400/1400\u001b[0m \u001b[32m━━━━━━━━━━━━━━━━━━━━\u001b[0m\u001b[37m\u001b[0m \u001b[1m3s\u001b[0m 2ms/step - accuracy: 0.5014 - loss: nan - val_accuracy: 0.4996 - val_loss: nan\n",
      "Epoch 11/100\n",
      "\u001b[1m1400/1400\u001b[0m \u001b[32m━━━━━━━━━━━━━━━━━━━━\u001b[0m\u001b[37m\u001b[0m \u001b[1m3s\u001b[0m 2ms/step - accuracy: 0.4975 - loss: nan - val_accuracy: 0.4996 - val_loss: nan\n",
      "Epoch 12/100\n",
      "\u001b[1m1400/1400\u001b[0m \u001b[32m━━━━━━━━━━━━━━━━━━━━\u001b[0m\u001b[37m\u001b[0m \u001b[1m3s\u001b[0m 2ms/step - accuracy: 0.4983 - loss: nan - val_accuracy: 0.4996 - val_loss: nan\n",
      "Epoch 13/100\n",
      "\u001b[1m1400/1400\u001b[0m \u001b[32m━━━━━━━━━━━━━━━━━━━━\u001b[0m\u001b[37m\u001b[0m \u001b[1m2s\u001b[0m 2ms/step - accuracy: 0.4996 - loss: nan - val_accuracy: 0.4996 - val_loss: nan\n",
      "Epoch 14/100\n",
      "\u001b[1m1400/1400\u001b[0m \u001b[32m━━━━━━━━━━━━━━━━━━━━\u001b[0m\u001b[37m\u001b[0m \u001b[1m2s\u001b[0m 2ms/step - accuracy: 0.5020 - loss: nan - val_accuracy: 0.4996 - val_loss: nan\n",
      "Epoch 15/100\n",
      "\u001b[1m1400/1400\u001b[0m \u001b[32m━━━━━━━━━━━━━━━━━━━━\u001b[0m\u001b[37m\u001b[0m \u001b[1m2s\u001b[0m 2ms/step - accuracy: 0.5011 - loss: nan - val_accuracy: 0.4996 - val_loss: nan\n",
      "Epoch 16/100\n",
      "\u001b[1m1400/1400\u001b[0m \u001b[32m━━━━━━━━━━━━━━━━━━━━\u001b[0m\u001b[37m\u001b[0m \u001b[1m3s\u001b[0m 2ms/step - accuracy: 0.5017 - loss: nan - val_accuracy: 0.4996 - val_loss: nan\n",
      "Epoch 17/100\n",
      "\u001b[1m1400/1400\u001b[0m \u001b[32m━━━━━━━━━━━━━━━━━━━━\u001b[0m\u001b[37m\u001b[0m \u001b[1m2s\u001b[0m 2ms/step - accuracy: 0.5010 - loss: nan - val_accuracy: 0.4996 - val_loss: nan\n",
      "Epoch 18/100\n",
      "\u001b[1m1400/1400\u001b[0m \u001b[32m━━━━━━━━━━━━━━━━━━━━\u001b[0m\u001b[37m\u001b[0m \u001b[1m2s\u001b[0m 2ms/step - accuracy: 0.5005 - loss: nan - val_accuracy: 0.4996 - val_loss: nan\n",
      "Epoch 19/100\n",
      "\u001b[1m1400/1400\u001b[0m \u001b[32m━━━━━━━━━━━━━━━━━━━━\u001b[0m\u001b[37m\u001b[0m \u001b[1m2s\u001b[0m 2ms/step - accuracy: 0.4995 - loss: nan - val_accuracy: 0.4996 - val_loss: nan\n",
      "Epoch 20/100\n",
      "\u001b[1m1400/1400\u001b[0m \u001b[32m━━━━━━━━━━━━━━━━━━━━\u001b[0m\u001b[37m\u001b[0m \u001b[1m3s\u001b[0m 2ms/step - accuracy: 0.5048 - loss: nan - val_accuracy: 0.4996 - val_loss: nan\n",
      "Epoch 21/100\n",
      "\u001b[1m1400/1400\u001b[0m \u001b[32m━━━━━━━━━━━━━━━━━━━━\u001b[0m\u001b[37m\u001b[0m \u001b[1m3s\u001b[0m 2ms/step - accuracy: 0.4982 - loss: nan - val_accuracy: 0.4996 - val_loss: nan\n",
      "Epoch 22/100\n",
      "\u001b[1m1400/1400\u001b[0m \u001b[32m━━━━━━━━━━━━━━━━━━━━\u001b[0m\u001b[37m\u001b[0m \u001b[1m3s\u001b[0m 2ms/step - accuracy: 0.5001 - loss: nan - val_accuracy: 0.4996 - val_loss: nan\n",
      "Epoch 23/100\n",
      "\u001b[1m1400/1400\u001b[0m \u001b[32m━━━━━━━━━━━━━━━━━━━━\u001b[0m\u001b[37m\u001b[0m \u001b[1m3s\u001b[0m 2ms/step - accuracy: 0.5013 - loss: nan - val_accuracy: 0.4996 - val_loss: nan\n",
      "Epoch 24/100\n",
      "\u001b[1m1400/1400\u001b[0m \u001b[32m━━━━━━━━━━━━━━━━━━━━\u001b[0m\u001b[37m\u001b[0m \u001b[1m2s\u001b[0m 2ms/step - accuracy: 0.4959 - loss: nan - val_accuracy: 0.4996 - val_loss: nan\n",
      "Epoch 25/100\n",
      "\u001b[1m1400/1400\u001b[0m \u001b[32m━━━━━━━━━━━━━━━━━━━━\u001b[0m\u001b[37m\u001b[0m \u001b[1m3s\u001b[0m 2ms/step - accuracy: 0.5026 - loss: nan - val_accuracy: 0.4996 - val_loss: nan\n",
      "Epoch 26/100\n",
      "\u001b[1m1400/1400\u001b[0m \u001b[32m━━━━━━━━━━━━━━━━━━━━\u001b[0m\u001b[37m\u001b[0m \u001b[1m3s\u001b[0m 2ms/step - accuracy: 0.4988 - loss: nan - val_accuracy: 0.4996 - val_loss: nan\n",
      "Epoch 27/100\n",
      "\u001b[1m1400/1400\u001b[0m \u001b[32m━━━━━━━━━━━━━━━━━━━━\u001b[0m\u001b[37m\u001b[0m \u001b[1m3s\u001b[0m 2ms/step - accuracy: 0.4994 - loss: nan - val_accuracy: 0.4996 - val_loss: nan\n",
      "Epoch 28/100\n",
      "\u001b[1m1400/1400\u001b[0m \u001b[32m━━━━━━━━━━━━━━━━━━━━\u001b[0m\u001b[37m\u001b[0m \u001b[1m3s\u001b[0m 2ms/step - accuracy: 0.5008 - loss: nan - val_accuracy: 0.4996 - val_loss: nan\n",
      "Epoch 29/100\n",
      "\u001b[1m1400/1400\u001b[0m \u001b[32m━━━━━━━━━━━━━━━━━━━━\u001b[0m\u001b[37m\u001b[0m \u001b[1m5s\u001b[0m 1ms/step - accuracy: 0.5013 - loss: nan - val_accuracy: 0.4996 - val_loss: nan\n",
      "Epoch 30/100\n",
      "\u001b[1m1400/1400\u001b[0m \u001b[32m━━━━━━━━━━━━━━━━━━━━\u001b[0m\u001b[37m\u001b[0m \u001b[1m2s\u001b[0m 1ms/step - accuracy: 0.5033 - loss: nan - val_accuracy: 0.4996 - val_loss: nan\n",
      "Epoch 31/100\n",
      "\u001b[1m1400/1400\u001b[0m \u001b[32m━━━━━━━━━━━━━━━━━━━━\u001b[0m\u001b[37m\u001b[0m \u001b[1m2s\u001b[0m 1ms/step - accuracy: 0.5005 - loss: nan - val_accuracy: 0.4996 - val_loss: nan\n",
      "Epoch 32/100\n",
      "\u001b[1m1400/1400\u001b[0m \u001b[32m━━━━━━━━━━━━━━━━━━━━\u001b[0m\u001b[37m\u001b[0m \u001b[1m2s\u001b[0m 2ms/step - accuracy: 0.4979 - loss: nan - val_accuracy: 0.4996 - val_loss: nan\n",
      "Epoch 33/100\n",
      "\u001b[1m1400/1400\u001b[0m \u001b[32m━━━━━━━━━━━━━━━━━━━━\u001b[0m\u001b[37m\u001b[0m \u001b[1m2s\u001b[0m 2ms/step - accuracy: 0.4976 - loss: nan - val_accuracy: 0.4996 - val_loss: nan\n",
      "Epoch 34/100\n",
      "\u001b[1m1400/1400\u001b[0m \u001b[32m━━━━━━━━━━━━━━━━━━━━\u001b[0m\u001b[37m\u001b[0m \u001b[1m2s\u001b[0m 2ms/step - accuracy: 0.5002 - loss: nan - val_accuracy: 0.4996 - val_loss: nan\n",
      "Epoch 35/100\n",
      "\u001b[1m1400/1400\u001b[0m \u001b[32m━━━━━━━━━━━━━━━━━━━━\u001b[0m\u001b[37m\u001b[0m \u001b[1m2s\u001b[0m 2ms/step - accuracy: 0.4996 - loss: nan - val_accuracy: 0.4996 - val_loss: nan\n",
      "Epoch 36/100\n",
      "\u001b[1m1400/1400\u001b[0m \u001b[32m━━━━━━━━━━━━━━━━━━━━\u001b[0m\u001b[37m\u001b[0m \u001b[1m2s\u001b[0m 1ms/step - accuracy: 0.5005 - loss: nan - val_accuracy: 0.4996 - val_loss: nan\n",
      "Epoch 37/100\n",
      "\u001b[1m1400/1400\u001b[0m \u001b[32m━━━━━━━━━━━━━━━━━━━━\u001b[0m\u001b[37m\u001b[0m \u001b[1m2s\u001b[0m 1ms/step - accuracy: 0.4994 - loss: nan - val_accuracy: 0.4996 - val_loss: nan\n",
      "Epoch 38/100\n",
      "\u001b[1m1400/1400\u001b[0m \u001b[32m━━━━━━━━━━━━━━━━━━━━\u001b[0m\u001b[37m\u001b[0m \u001b[1m2s\u001b[0m 2ms/step - accuracy: 0.5013 - loss: nan - val_accuracy: 0.4996 - val_loss: nan\n",
      "Epoch 39/100\n",
      "\u001b[1m1400/1400\u001b[0m \u001b[32m━━━━━━━━━━━━━━━━━━━━\u001b[0m\u001b[37m\u001b[0m \u001b[1m3s\u001b[0m 2ms/step - accuracy: 0.5027 - loss: nan - val_accuracy: 0.4996 - val_loss: nan\n",
      "Epoch 40/100\n",
      "\u001b[1m1400/1400\u001b[0m \u001b[32m━━━━━━━━━━━━━━━━━━━━\u001b[0m\u001b[37m\u001b[0m \u001b[1m3s\u001b[0m 2ms/step - accuracy: 0.5041 - loss: nan - val_accuracy: 0.4996 - val_loss: nan\n",
      "Epoch 41/100\n",
      "\u001b[1m1400/1400\u001b[0m \u001b[32m━━━━━━━━━━━━━━━━━━━━\u001b[0m\u001b[37m\u001b[0m \u001b[1m3s\u001b[0m 2ms/step - accuracy: 0.5015 - loss: nan - val_accuracy: 0.4996 - val_loss: nan\n",
      "Epoch 42/100\n",
      "\u001b[1m1400/1400\u001b[0m \u001b[32m━━━━━━━━━━━━━━━━━━━━\u001b[0m\u001b[37m\u001b[0m \u001b[1m3s\u001b[0m 2ms/step - accuracy: 0.4985 - loss: nan - val_accuracy: 0.4996 - val_loss: nan\n",
      "Epoch 43/100\n",
      "\u001b[1m1400/1400\u001b[0m \u001b[32m━━━━━━━━━━━━━━━━━━━━\u001b[0m\u001b[37m\u001b[0m \u001b[1m2s\u001b[0m 2ms/step - accuracy: 0.5015 - loss: nan - val_accuracy: 0.4996 - val_loss: nan\n",
      "Epoch 44/100\n",
      "\u001b[1m1400/1400\u001b[0m \u001b[32m━━━━━━━━━━━━━━━━━━━━\u001b[0m\u001b[37m\u001b[0m \u001b[1m2s\u001b[0m 2ms/step - accuracy: 0.5035 - loss: nan - val_accuracy: 0.4996 - val_loss: nan\n",
      "Epoch 45/100\n",
      "\u001b[1m1400/1400\u001b[0m \u001b[32m━━━━━━━━━━━━━━━━━━━━\u001b[0m\u001b[37m\u001b[0m \u001b[1m3s\u001b[0m 2ms/step - accuracy: 0.5013 - loss: nan - val_accuracy: 0.4996 - val_loss: nan\n",
      "Epoch 46/100\n",
      "\u001b[1m1400/1400\u001b[0m \u001b[32m━━━━━━━━━━━━━━━━━━━━\u001b[0m\u001b[37m\u001b[0m \u001b[1m2s\u001b[0m 2ms/step - accuracy: 0.4987 - loss: nan - val_accuracy: 0.4996 - val_loss: nan\n",
      "Epoch 47/100\n",
      "\u001b[1m1400/1400\u001b[0m \u001b[32m━━━━━━━━━━━━━━━━━━━━\u001b[0m\u001b[37m\u001b[0m \u001b[1m2s\u001b[0m 2ms/step - accuracy: 0.5036 - loss: nan - val_accuracy: 0.4996 - val_loss: nan\n",
      "Epoch 48/100\n",
      "\u001b[1m1400/1400\u001b[0m \u001b[32m━━━━━━━━━━━━━━━━━━━━\u001b[0m\u001b[37m\u001b[0m \u001b[1m2s\u001b[0m 2ms/step - accuracy: 0.5053 - loss: nan - val_accuracy: 0.4996 - val_loss: nan\n",
      "Epoch 49/100\n",
      "\u001b[1m1400/1400\u001b[0m \u001b[32m━━━━━━━━━━━━━━━━━━━━\u001b[0m\u001b[37m\u001b[0m \u001b[1m3s\u001b[0m 2ms/step - accuracy: 0.4980 - loss: nan - val_accuracy: 0.4996 - val_loss: nan\n",
      "Epoch 50/100\n",
      "\u001b[1m1400/1400\u001b[0m \u001b[32m━━━━━━━━━━━━━━━━━━━━\u001b[0m\u001b[37m\u001b[0m \u001b[1m2s\u001b[0m 2ms/step - accuracy: 0.4982 - loss: nan - val_accuracy: 0.4996 - val_loss: nan\n",
      "Epoch 51/100\n",
      "\u001b[1m1400/1400\u001b[0m \u001b[32m━━━━━━━━━━━━━━━━━━━━\u001b[0m\u001b[37m\u001b[0m \u001b[1m2s\u001b[0m 2ms/step - accuracy: 0.5022 - loss: nan - val_accuracy: 0.4996 - val_loss: nan\n",
      "Epoch 52/100\n",
      "\u001b[1m1400/1400\u001b[0m \u001b[32m━━━━━━━━━━━━━━━━━━━━\u001b[0m\u001b[37m\u001b[0m \u001b[1m2s\u001b[0m 2ms/step - accuracy: 0.4995 - loss: nan - val_accuracy: 0.4996 - val_loss: nan\n",
      "Epoch 53/100\n",
      "\u001b[1m1400/1400\u001b[0m \u001b[32m━━━━━━━━━━━━━━━━━━━━\u001b[0m\u001b[37m\u001b[0m \u001b[1m2s\u001b[0m 2ms/step - accuracy: 0.4992 - loss: nan - val_accuracy: 0.4996 - val_loss: nan\n",
      "Epoch 54/100\n",
      "\u001b[1m1400/1400\u001b[0m \u001b[32m━━━━━━━━━━━━━━━━━━━━\u001b[0m\u001b[37m\u001b[0m \u001b[1m2s\u001b[0m 2ms/step - accuracy: 0.5018 - loss: nan - val_accuracy: 0.4996 - val_loss: nan\n",
      "Epoch 55/100\n",
      "\u001b[1m1400/1400\u001b[0m \u001b[32m━━━━━━━━━━━━━━━━━━━━\u001b[0m\u001b[37m\u001b[0m \u001b[1m2s\u001b[0m 2ms/step - accuracy: 0.5014 - loss: nan - val_accuracy: 0.4996 - val_loss: nan\n",
      "Epoch 56/100\n",
      "\u001b[1m1400/1400\u001b[0m \u001b[32m━━━━━━━━━━━━━━━━━━━━\u001b[0m\u001b[37m\u001b[0m \u001b[1m2s\u001b[0m 2ms/step - accuracy: 0.5026 - loss: nan - val_accuracy: 0.4996 - val_loss: nan\n",
      "Epoch 57/100\n",
      "\u001b[1m1400/1400\u001b[0m \u001b[32m━━━━━━━━━━━━━━━━━━━━\u001b[0m\u001b[37m\u001b[0m \u001b[1m2s\u001b[0m 2ms/step - accuracy: 0.5005 - loss: nan - val_accuracy: 0.4996 - val_loss: nan\n",
      "Epoch 58/100\n",
      "\u001b[1m1400/1400\u001b[0m \u001b[32m━━━━━━━━━━━━━━━━━━━━\u001b[0m\u001b[37m\u001b[0m \u001b[1m2s\u001b[0m 2ms/step - accuracy: 0.5009 - loss: nan - val_accuracy: 0.4996 - val_loss: nan\n",
      "Epoch 59/100\n",
      "\u001b[1m1400/1400\u001b[0m \u001b[32m━━━━━━━━━━━━━━━━━━━━\u001b[0m\u001b[37m\u001b[0m \u001b[1m2s\u001b[0m 2ms/step - accuracy: 0.5047 - loss: nan - val_accuracy: 0.4996 - val_loss: nan\n",
      "Epoch 60/100\n",
      "\u001b[1m1400/1400\u001b[0m \u001b[32m━━━━━━━━━━━━━━━━━━━━\u001b[0m\u001b[37m\u001b[0m \u001b[1m2s\u001b[0m 2ms/step - accuracy: 0.5021 - loss: nan - val_accuracy: 0.4996 - val_loss: nan\n",
      "Epoch 61/100\n",
      "\u001b[1m1400/1400\u001b[0m \u001b[32m━━━━━━━━━━━━━━━━━━━━\u001b[0m\u001b[37m\u001b[0m \u001b[1m2s\u001b[0m 2ms/step - accuracy: 0.5019 - loss: nan - val_accuracy: 0.4996 - val_loss: nan\n",
      "Epoch 62/100\n",
      "\u001b[1m1400/1400\u001b[0m \u001b[32m━━━━━━━━━━━━━━━━━━━━\u001b[0m\u001b[37m\u001b[0m \u001b[1m2s\u001b[0m 2ms/step - accuracy: 0.5005 - loss: nan - val_accuracy: 0.4996 - val_loss: nan\n",
      "Epoch 63/100\n",
      "\u001b[1m1400/1400\u001b[0m \u001b[32m━━━━━━━━━━━━━━━━━━━━\u001b[0m\u001b[37m\u001b[0m \u001b[1m2s\u001b[0m 2ms/step - accuracy: 0.4978 - loss: nan - val_accuracy: 0.4996 - val_loss: nan\n",
      "Epoch 64/100\n",
      "\u001b[1m1400/1400\u001b[0m \u001b[32m━━━━━━━━━━━━━━━━━━━━\u001b[0m\u001b[37m\u001b[0m \u001b[1m2s\u001b[0m 2ms/step - accuracy: 0.4989 - loss: nan - val_accuracy: 0.4996 - val_loss: nan\n",
      "Epoch 65/100\n",
      "\u001b[1m1400/1400\u001b[0m \u001b[32m━━━━━━━━━━━━━━━━━━━━\u001b[0m\u001b[37m\u001b[0m \u001b[1m2s\u001b[0m 2ms/step - accuracy: 0.4971 - loss: nan - val_accuracy: 0.4996 - val_loss: nan\n",
      "Epoch 66/100\n",
      "\u001b[1m1400/1400\u001b[0m \u001b[32m━━━━━━━━━━━━━━━━━━━━\u001b[0m\u001b[37m\u001b[0m \u001b[1m2s\u001b[0m 2ms/step - accuracy: 0.4985 - loss: nan - val_accuracy: 0.4996 - val_loss: nan\n",
      "Epoch 67/100\n",
      "\u001b[1m1400/1400\u001b[0m \u001b[32m━━━━━━━━━━━━━━━━━━━━\u001b[0m\u001b[37m\u001b[0m \u001b[1m2s\u001b[0m 2ms/step - accuracy: 0.4992 - loss: nan - val_accuracy: 0.4996 - val_loss: nan\n",
      "Epoch 68/100\n",
      "\u001b[1m1400/1400\u001b[0m \u001b[32m━━━━━━━━━━━━━━━━━━━━\u001b[0m\u001b[37m\u001b[0m \u001b[1m2s\u001b[0m 2ms/step - accuracy: 0.5039 - loss: nan - val_accuracy: 0.4996 - val_loss: nan\n",
      "Epoch 69/100\n",
      "\u001b[1m1400/1400\u001b[0m \u001b[32m━━━━━━━━━━━━━━━━━━━━\u001b[0m\u001b[37m\u001b[0m \u001b[1m2s\u001b[0m 2ms/step - accuracy: 0.4969 - loss: nan - val_accuracy: 0.4996 - val_loss: nan\n",
      "Epoch 70/100\n",
      "\u001b[1m1400/1400\u001b[0m \u001b[32m━━━━━━━━━━━━━━━━━━━━\u001b[0m\u001b[37m\u001b[0m \u001b[1m2s\u001b[0m 2ms/step - accuracy: 0.4986 - loss: nan - val_accuracy: 0.4996 - val_loss: nan\n",
      "Epoch 71/100\n",
      "\u001b[1m1400/1400\u001b[0m \u001b[32m━━━━━━━━━━━━━━━━━━━━\u001b[0m\u001b[37m\u001b[0m \u001b[1m2s\u001b[0m 2ms/step - accuracy: 0.5046 - loss: nan - val_accuracy: 0.4996 - val_loss: nan\n",
      "Epoch 72/100\n",
      "\u001b[1m1400/1400\u001b[0m \u001b[32m━━━━━━━━━━━━━━━━━━━━\u001b[0m\u001b[37m\u001b[0m \u001b[1m2s\u001b[0m 2ms/step - accuracy: 0.4995 - loss: nan - val_accuracy: 0.4996 - val_loss: nan\n",
      "Epoch 73/100\n",
      "\u001b[1m1400/1400\u001b[0m \u001b[32m━━━━━━━━━━━━━━━━━━━━\u001b[0m\u001b[37m\u001b[0m \u001b[1m3s\u001b[0m 2ms/step - accuracy: 0.4992 - loss: nan - val_accuracy: 0.4996 - val_loss: nan\n",
      "Epoch 74/100\n",
      "\u001b[1m1400/1400\u001b[0m \u001b[32m━━━━━━━━━━━━━━━━━━━━\u001b[0m\u001b[37m\u001b[0m \u001b[1m5s\u001b[0m 2ms/step - accuracy: 0.5054 - loss: nan - val_accuracy: 0.4996 - val_loss: nan\n",
      "Epoch 75/100\n",
      "\u001b[1m1400/1400\u001b[0m \u001b[32m━━━━━━━━━━━━━━━━━━━━\u001b[0m\u001b[37m\u001b[0m \u001b[1m2s\u001b[0m 2ms/step - accuracy: 0.4996 - loss: nan - val_accuracy: 0.4996 - val_loss: nan\n",
      "Epoch 76/100\n",
      "\u001b[1m1400/1400\u001b[0m \u001b[32m━━━━━━━━━━━━━━━━━━━━\u001b[0m\u001b[37m\u001b[0m \u001b[1m2s\u001b[0m 2ms/step - accuracy: 0.5009 - loss: nan - val_accuracy: 0.4996 - val_loss: nan\n",
      "Epoch 77/100\n",
      "\u001b[1m1400/1400\u001b[0m \u001b[32m━━━━━━━━━━━━━━━━━━━━\u001b[0m\u001b[37m\u001b[0m \u001b[1m3s\u001b[0m 2ms/step - accuracy: 0.5000 - loss: nan - val_accuracy: 0.4996 - val_loss: nan\n",
      "Epoch 78/100\n",
      "\u001b[1m1400/1400\u001b[0m \u001b[32m━━━━━━━━━━━━━━━━━━━━\u001b[0m\u001b[37m\u001b[0m \u001b[1m2s\u001b[0m 2ms/step - accuracy: 0.5012 - loss: nan - val_accuracy: 0.4996 - val_loss: nan\n",
      "Epoch 79/100\n",
      "\u001b[1m1400/1400\u001b[0m \u001b[32m━━━━━━━━━━━━━━━━━━━━\u001b[0m\u001b[37m\u001b[0m \u001b[1m2s\u001b[0m 2ms/step - accuracy: 0.5025 - loss: nan - val_accuracy: 0.4996 - val_loss: nan\n",
      "Epoch 80/100\n",
      "\u001b[1m1400/1400\u001b[0m \u001b[32m━━━━━━━━━━━━━━━━━━━━\u001b[0m\u001b[37m\u001b[0m \u001b[1m2s\u001b[0m 2ms/step - accuracy: 0.5039 - loss: nan - val_accuracy: 0.4996 - val_loss: nan\n",
      "Epoch 81/100\n",
      "\u001b[1m1400/1400\u001b[0m \u001b[32m━━━━━━━━━━━━━━━━━━━━\u001b[0m\u001b[37m\u001b[0m \u001b[1m2s\u001b[0m 2ms/step - accuracy: 0.4998 - loss: nan - val_accuracy: 0.4996 - val_loss: nan\n",
      "Epoch 82/100\n",
      "\u001b[1m1400/1400\u001b[0m \u001b[32m━━━━━━━━━━━━━━━━━━━━\u001b[0m\u001b[37m\u001b[0m \u001b[1m2s\u001b[0m 2ms/step - accuracy: 0.4998 - loss: nan - val_accuracy: 0.4996 - val_loss: nan\n",
      "Epoch 83/100\n",
      "\u001b[1m1400/1400\u001b[0m \u001b[32m━━━━━━━━━━━━━━━━━━━━\u001b[0m\u001b[37m\u001b[0m \u001b[1m3s\u001b[0m 2ms/step - accuracy: 0.4961 - loss: nan - val_accuracy: 0.4996 - val_loss: nan\n",
      "Epoch 84/100\n",
      "\u001b[1m1400/1400\u001b[0m \u001b[32m━━━━━━━━━━━━━━━━━━━━\u001b[0m\u001b[37m\u001b[0m \u001b[1m2s\u001b[0m 2ms/step - accuracy: 0.4962 - loss: nan - val_accuracy: 0.4996 - val_loss: nan\n",
      "Epoch 85/100\n",
      "\u001b[1m1400/1400\u001b[0m \u001b[32m━━━━━━━━━━━━━━━━━━━━\u001b[0m\u001b[37m\u001b[0m \u001b[1m2s\u001b[0m 2ms/step - accuracy: 0.5016 - loss: nan - val_accuracy: 0.4996 - val_loss: nan\n",
      "Epoch 86/100\n",
      "\u001b[1m1400/1400\u001b[0m \u001b[32m━━━━━━━━━━━━━━━━━━━━\u001b[0m\u001b[37m\u001b[0m \u001b[1m2s\u001b[0m 2ms/step - accuracy: 0.5005 - loss: nan - val_accuracy: 0.4996 - val_loss: nan\n",
      "Epoch 87/100\n",
      "\u001b[1m1400/1400\u001b[0m \u001b[32m━━━━━━━━━━━━━━━━━━━━\u001b[0m\u001b[37m\u001b[0m \u001b[1m3s\u001b[0m 2ms/step - accuracy: 0.5034 - loss: nan - val_accuracy: 0.4996 - val_loss: nan\n",
      "Epoch 88/100\n",
      "\u001b[1m1400/1400\u001b[0m \u001b[32m━━━━━━━━━━━━━━━━━━━━\u001b[0m\u001b[37m\u001b[0m \u001b[1m2s\u001b[0m 2ms/step - accuracy: 0.5020 - loss: nan - val_accuracy: 0.4996 - val_loss: nan\n",
      "Epoch 89/100\n",
      "\u001b[1m1400/1400\u001b[0m \u001b[32m━━━━━━━━━━━━━━━━━━━━\u001b[0m\u001b[37m\u001b[0m \u001b[1m3s\u001b[0m 2ms/step - accuracy: 0.5002 - loss: nan - val_accuracy: 0.4996 - val_loss: nan\n",
      "Epoch 90/100\n",
      "\u001b[1m1400/1400\u001b[0m \u001b[32m━━━━━━━━━━━━━━━━━━━━\u001b[0m\u001b[37m\u001b[0m \u001b[1m2s\u001b[0m 2ms/step - accuracy: 0.5038 - loss: nan - val_accuracy: 0.4996 - val_loss: nan\n",
      "Epoch 91/100\n",
      "\u001b[1m1400/1400\u001b[0m \u001b[32m━━━━━━━━━━━━━━━━━━━━\u001b[0m\u001b[37m\u001b[0m \u001b[1m2s\u001b[0m 2ms/step - accuracy: 0.4982 - loss: nan - val_accuracy: 0.4996 - val_loss: nan\n",
      "Epoch 92/100\n",
      "\u001b[1m1400/1400\u001b[0m \u001b[32m━━━━━━━━━━━━━━━━━━━━\u001b[0m\u001b[37m\u001b[0m \u001b[1m2s\u001b[0m 2ms/step - accuracy: 0.4995 - loss: nan - val_accuracy: 0.4996 - val_loss: nan\n",
      "Epoch 93/100\n",
      "\u001b[1m1400/1400\u001b[0m \u001b[32m━━━━━━━━━━━━━━━━━━━━\u001b[0m\u001b[37m\u001b[0m \u001b[1m3s\u001b[0m 2ms/step - accuracy: 0.4991 - loss: nan - val_accuracy: 0.4996 - val_loss: nan\n",
      "Epoch 94/100\n",
      "\u001b[1m1400/1400\u001b[0m \u001b[32m━━━━━━━━━━━━━━━━━━━━\u001b[0m\u001b[37m\u001b[0m \u001b[1m2s\u001b[0m 2ms/step - accuracy: 0.5006 - loss: nan - val_accuracy: 0.4996 - val_loss: nan\n",
      "Epoch 95/100\n",
      "\u001b[1m1400/1400\u001b[0m \u001b[32m━━━━━━━━━━━━━━━━━━━━\u001b[0m\u001b[37m\u001b[0m \u001b[1m2s\u001b[0m 2ms/step - accuracy: 0.4973 - loss: nan - val_accuracy: 0.4996 - val_loss: nan\n",
      "Epoch 96/100\n",
      "\u001b[1m1400/1400\u001b[0m \u001b[32m━━━━━━━━━━━━━━━━━━━━\u001b[0m\u001b[37m\u001b[0m \u001b[1m2s\u001b[0m 2ms/step - accuracy: 0.5053 - loss: nan - val_accuracy: 0.4996 - val_loss: nan\n",
      "Epoch 97/100\n",
      "\u001b[1m1400/1400\u001b[0m \u001b[32m━━━━━━━━━━━━━━━━━━━━\u001b[0m\u001b[37m\u001b[0m \u001b[1m3s\u001b[0m 2ms/step - accuracy: 0.5045 - loss: nan - val_accuracy: 0.4996 - val_loss: nan\n",
      "Epoch 98/100\n",
      "\u001b[1m1400/1400\u001b[0m \u001b[32m━━━━━━━━━━━━━━━━━━━━\u001b[0m\u001b[37m\u001b[0m \u001b[1m3s\u001b[0m 2ms/step - accuracy: 0.5011 - loss: nan - val_accuracy: 0.4996 - val_loss: nan\n",
      "Epoch 99/100\n",
      "\u001b[1m1400/1400\u001b[0m \u001b[32m━━━━━━━━━━━━━━━━━━━━\u001b[0m\u001b[37m\u001b[0m \u001b[1m3s\u001b[0m 2ms/step - accuracy: 0.5048 - loss: nan - val_accuracy: 0.4996 - val_loss: nan\n",
      "Epoch 100/100\n",
      "\u001b[1m1400/1400\u001b[0m \u001b[32m━━━━━━━━━━━━━━━━━━━━\u001b[0m\u001b[37m\u001b[0m \u001b[1m3s\u001b[0m 2ms/step - accuracy: 0.4994 - loss: nan - val_accuracy: 0.4996 - val_loss: nan\n"
     ]
    }
   ],
   "source": [
    "\n",
    "history = model2.fit(X_train_scaled,y_train, epochs=100, batch_size=32, validation_split=0.2)\n",
    "model2.save(\"./Ellidogruluk.keras\")"
   ]
  },
  {
   "cell_type": "code",
   "execution_count": null,
   "metadata": {},
   "outputs": [],
   "source": [
    "## When model predicts it gives nan output ??\n",
    "loss , mae = model2.evaluate(X_train_scaled,y_train)\n",
    "\n",
    "print(f\"Test Loss: {loss:.4f}\")\n",
    "print(f\"Mean Absolute Error (MAE): {mae:.4f}\")\n",
    "\n",
    "y_pred = model2.predict(X_test_scaled)\n",
    "acc= accuracy_score(y_test,y_pred)\n",
    "print(\"Model Doğruluğu:\", acc)\n",
    "\n",
    "print(classification_report(y_test, y_pred))"
   ]
  },
  {
   "cell_type": "code",
   "execution_count": null,
   "metadata": {},
   "outputs": [],
   "source": [
    "yenimodel=load_model(\"Ellidogruluk.keras\")\n",
    "testdata = [6935,1,171,60,110,90,0,0,0,0,1]\n",
    "\n",
    "import numpy as np\n",
    "testdata = np.array(testdata)\n",
    "testdata = testdata.reshape(1, 11)\n",
    "\n",
    "sonuc = yenimodel.predict(testdata)\n",
    "\n",
    "print(sonuc[0])"
   ]
  }
 ],
 "metadata": {
  "kernelspec": {
   "display_name": "Python 3",
   "language": "python",
   "name": "python3"
  },
  "language_info": {
   "codemirror_mode": {
    "name": "ipython",
    "version": 3
   },
   "file_extension": ".py",
   "mimetype": "text/x-python",
   "name": "python",
   "nbconvert_exporter": "python",
   "pygments_lexer": "ipython3",
   "version": "3.10.12"
  }
 },
 "nbformat": 4,
 "nbformat_minor": 2
}
